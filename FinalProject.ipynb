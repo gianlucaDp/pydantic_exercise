{
 "cells": [
  {
   "cell_type": "code",
   "execution_count": 1,
   "id": "f7542f1d-39c9-420b-af67-d2840b1ead16",
   "metadata": {},
   "outputs": [],
   "source": [
    "from datetime import date\n",
    "from enum import Enum\n",
    "from functools import cached_property\n",
    "from typing import Annotated, TypeVar\n",
    "from uuid import UUID\n",
    "from uuid import uuid4\n",
    "from pydantic import (\n",
    "    AfterValidator, \n",
    "    BaseModel, \n",
    "    ConfigDict, \n",
    "    computed_field,\n",
    "    Field, \n",
    "    field_serializer, \n",
    "    field_validator,\n",
    "    PlainSerializer,\n",
    "    UUID4,\n",
    "    ValidationInfo,\n",
    ")\n",
    "from pydantic.alias_generators import to_camel"
   ]
  },
  {
   "cell_type": "markdown",
   "id": "9578a061-ec72-49d3-b400-0a639989d160",
   "metadata": {},
   "source": [
    "#### Data"
   ]
  },
  {
   "cell_type": "code",
   "execution_count": 2,
   "id": "7d36445d-8322-47fc-997e-5bd75347bf38",
   "metadata": {},
   "outputs": [],
   "source": [
    "countries = {\n",
    "    \"australia\": (\"Australia\", \"AUS\"),\n",
    "    \"canada\": (\"Canada\", \"CAN\"),\n",
    "    \"china\": (\"China\", \"CHN\"),\n",
    "    \"france\": (\"France\", \"FRA\"),\n",
    "    \"germany\": (\"Germany\", \"DEU\"),\n",
    "    \"india\": (\"India\", \"IND\"),\n",
    "    \"mexico\": (\"Mexico\", \"MEX\"),\n",
    "    \"norway\": (\"Norway\", \"NOR\"),\n",
    "    \"pakistan\": (\"Pakistan\", \"PAK\"),\n",
    "    \"san marino\": (\"San Marino\", \"SMR\"),\n",
    "    \"sanmarino\": (\"San Marino\", \"SMR\"),\n",
    "    \"spain\": (\"Spain\", \"ESP\"),\n",
    "    \"sweden\": (\"Sweden\", \"SWE\"),\n",
    "    \"united kingdom\": (\"United Kingdom\", \"GBR\"),\n",
    "    \"uk\": (\"United Kingdom\", \"GBR\"),\n",
    "    \"great britain\": (\"United Kingdom\", \"GBR\"),\n",
    "    \"britain\": (\"United Kingdom\", \"GBR\"),\n",
    "    \"us\": (\"United States of America\", \"USA\"),\n",
    "    \"united states\": (\"United States of America\", \"USA\"),\n",
    "    \"usa\": (\"United States of America\", \"USA\"),\n",
    "}\n",
    "valid_country_names = sorted(countries.keys())\n",
    "\n",
    "country_code_lookup = {\n",
    "    name: code\n",
    "    for name, code in countries.values()\n",
    "}"
   ]
  },
  {
   "cell_type": "markdown",
   "id": "63b675b3-99ba-45ec-9a7b-aff3e2382668",
   "metadata": {},
   "source": [
    "#### Enums and Helper Functions"
   ]
  },
  {
   "cell_type": "code",
   "execution_count": 3,
   "id": "e871380d-2e6a-489a-9d08-312d404f592a",
   "metadata": {},
   "outputs": [],
   "source": [
    "class AutomobileType(Enum):\n",
    "    sedan = \"Sedan\"\n",
    "    coupe = \"Coupe\"\n",
    "    convertible = \"Convertible\"\n",
    "    suv = \"SUV\"\n",
    "    truck = \"Truck\"\n",
    "    \n",
    "def lookup_country(name: str) -> tuple[str, str]:\n",
    "    name = name.strip().casefold()\n",
    "    \n",
    "    try:\n",
    "        return countries[name]\n",
    "    except KeyError:\n",
    "        raise ValueError(\n",
    "            \"Unknown country name. \"\n",
    "            f\"Country name must be one of: {','.join(valid_country_names)}\"\n",
    "        )\n",
    "\n",
    "def serialize_date(value: date) -> str:\n",
    "        return value.strftime(\"%Y/%m/%d\")"
   ]
  },
  {
   "cell_type": "markdown",
   "id": "a2dd7f25-d94c-4e92-905e-4c5c11a4ca36",
   "metadata": {},
   "source": [
    "#### Annotated Types"
   ]
  },
  {
   "cell_type": "code",
   "execution_count": 4,
   "id": "22147f79-ba2c-4c70-94fd-d05ad3babbf8",
   "metadata": {},
   "outputs": [],
   "source": [
    "T = TypeVar('T')\n",
    "\n",
    "BoundedString = Annotated[str, Field(min_length=2, max_length=50)]\n",
    "BoundedList = Annotated[list[T], Field(min_length=1, max_length=5)]\n",
    "Country = Annotated[str, AfterValidator(lambda name: lookup_country(name)[0])]\n",
    "CustomDate = Annotated[\n",
    "    date, \n",
    "    PlainSerializer(serialize_date, when_used=\"json-unless-none\")\n",
    "]"
   ]
  },
  {
   "cell_type": "markdown",
   "id": "741a4458-c416-41db-b267-cffe6c87056c",
   "metadata": {},
   "source": [
    "#### Custom Base Model"
   ]
  },
  {
   "cell_type": "code",
   "execution_count": 5,
   "id": "a0f57250-62a7-406d-9e8c-b274640814ab",
   "metadata": {},
   "outputs": [],
   "source": [
    "class CamelBaseModel(BaseModel):\n",
    "    model_config = ConfigDict(\n",
    "        extra=\"forbid\",\n",
    "        str_strip_whitespace=True,\n",
    "        validate_default=True,\n",
    "        validate_assignment=True,\n",
    "        alias_generator=to_camel,\n",
    "    )"
   ]
  },
  {
   "cell_type": "markdown",
   "id": "27d77086-4df6-4887-a517-6bf1d415e8e3",
   "metadata": {},
   "source": [
    "#### Models"
   ]
  },
  {
   "cell_type": "code",
   "execution_count": 6,
   "id": "9060a7ed-fa6c-43d7-8af6-24b8f639b78e",
   "metadata": {},
   "outputs": [],
   "source": [
    "class RegistrationCountry(CamelBaseModel):\n",
    "    name: Country | None = Field(default=None)\n",
    "\n",
    "    @computed_field\n",
    "    @cached_property\n",
    "    def code3(self) -> str:\n",
    "        return country_code_lookup[self.name]\n",
    "\n",
    "\n",
    "class Automobile(CamelBaseModel):\n",
    "    id_: UUID4 | None = Field(alias=\"id\", default_factory=uuid4) \n",
    "    manufacturer: BoundedString\n",
    "    series_name: BoundedString\n",
    "    type_: AutomobileType = Field(alias=\"type\")\n",
    "    is_electric: bool = Field(default=False, repr=False)\n",
    "    manufactured_date: CustomDate = Field(\n",
    "        validation_alias=\"completionDate\", \n",
    "        ge=date(1980, 1, 1), \n",
    "        repr=False\n",
    "    )\n",
    "    base_msrp_usd: float = Field(\n",
    "        validation_alias=\"msrpUSD\", \n",
    "        serialization_alias=\"baseMSRPUSD\",\n",
    "        repr=False,\n",
    "    )\n",
    "    top_features: BoundedList[BoundedString] | None = Field(default=None, repr=False)\n",
    "    vin: BoundedString = Field(repr=False)\n",
    "    number_of_doors: int = Field(\n",
    "        default=4, \n",
    "        validation_alias=\"doors\",\n",
    "        ge=2,\n",
    "        le=4,\n",
    "        multiple_of=2,\n",
    "        repr=False,\n",
    "    )\n",
    "    registration_country: RegistrationCountry | None = Field(default=None, repr=False)\n",
    "    registration_date: CustomDate | None = Field(default=None, repr=False)\n",
    "    license_plate: BoundedString | None = Field(default=None, repr=False)\n",
    "        \n",
    "    @field_validator(\"registration_date\")\n",
    "    @classmethod\n",
    "    def validate_registration_date(cls, value:date, values: ValidationInfo):\n",
    "        data = values.data\n",
    "        if \"manufactured_date\" in data and data[\"manufactured_date\"] > value:\n",
    "            raise ValueError(\"Automobile cannot be registered prior to manufacture date.\")\n",
    "        return value"
   ]
  },
  {
   "cell_type": "markdown",
   "id": "920325d2",
   "metadata": {},
   "source": [
    "#### Model testing"
   ]
  },
  {
   "cell_type": "code",
   "execution_count": 7,
   "id": "82caf655",
   "metadata": {},
   "outputs": [],
   "source": [
    "data = {\n",
    "    \"id\": \"c4e60f4a-3c7f-4da5-9b3f-07aee50b23e7\",\n",
    "    \"manufacturer\": \"BMW\",\n",
    "    \"seriesName\": \"M4 Competition xDrive\",\n",
    "    \"type\": \"Convertible\",\n",
    "    \"isElectric\": False,\n",
    "    \"completionDate\": \"2023-01-01\",\n",
    "    \"msrpUSD\": 93_300,\n",
    "    \"topFeatures\": [\"6 cylinders\", \"all-wheel drive\", \"convertible\"],\n",
    "    \"vin\": \"1234567890\",\n",
    "    \"doors\": 2,\n",
    "    \"registrationCountry\": {\"name\": \"us\"},\n",
    "    \"registrationDate\": \"2023-06-01\",\n",
    "    \"licensePlate\": \"AAA-BBB\"\n",
    "}\n",
    "\n",
    "expected_serialized_by_alias = {\n",
    "    'id': UUID('c4e60f4a-3c7f-4da5-9b3f-07aee50b23e7'),\n",
    "    'manufacturer': 'BMW',\n",
    "    'seriesName': 'M4 Competition xDrive',\n",
    "    'type': AutomobileType.convertible,\n",
    "    'isElectric': False,\n",
    "    'manufacturedDate': date(2023, 1, 1),\n",
    "    'baseMSRPUSD': 93300.0,\n",
    "    'topFeatures': ['6 cylinders', 'all-wheel drive', 'convertible'],\n",
    "    'vin': '1234567890',\n",
    "    'numberOfDoors': 2,\n",
    "    'registrationCountry': {\n",
    "        'name': 'United States of America', \n",
    "        'code3': 'USA'\n",
    "    },\n",
    "    'registrationDate': date(2023, 6, 1),\n",
    "    'licensePlate': 'AAA-BBB'\n",
    "}"
   ]
  },
  {
   "cell_type": "code",
   "execution_count": 8,
   "id": "9d84d082",
   "metadata": {},
   "outputs": [],
   "source": [
    "car = Automobile.model_validate(data)\n"
   ]
  },
  {
   "cell_type": "code",
   "execution_count": 9,
   "id": "92485189",
   "metadata": {},
   "outputs": [
    {
     "data": {
      "text/plain": [
       "Automobile(id_=UUID('c4e60f4a-3c7f-4da5-9b3f-07aee50b23e7'), manufacturer='BMW', series_name='M4 Competition xDrive', type_=<AutomobileType.convertible: 'Convertible'>)"
      ]
     },
     "execution_count": 9,
     "metadata": {},
     "output_type": "execute_result"
    }
   ],
   "source": [
    "car"
   ]
  },
  {
   "cell_type": "code",
   "execution_count": 10,
   "id": "859a1b47",
   "metadata": {},
   "outputs": [
    {
     "data": {
      "text/plain": [
       "RegistrationCountry(name='United States of America', code3='USA')"
      ]
     },
     "execution_count": 10,
     "metadata": {},
     "output_type": "execute_result"
    }
   ],
   "source": [
    "car.registration_country"
   ]
  },
  {
   "cell_type": "code",
   "execution_count": 11,
   "id": "d474bb24",
   "metadata": {},
   "outputs": [],
   "source": [
    "deserialized = car.model_dump(by_alias=True)"
   ]
  },
  {
   "cell_type": "code",
   "execution_count": 12,
   "id": "f0b87a73",
   "metadata": {},
   "outputs": [
    {
     "data": {
      "text/plain": [
       "{'id': UUID('c4e60f4a-3c7f-4da5-9b3f-07aee50b23e7'),\n",
       " 'manufacturer': 'BMW',\n",
       " 'seriesName': 'M4 Competition xDrive',\n",
       " 'type': <AutomobileType.convertible: 'Convertible'>,\n",
       " 'isElectric': False,\n",
       " 'manufacturedDate': datetime.date(2023, 1, 1),\n",
       " 'baseMSRPUSD': 93300.0,\n",
       " 'topFeatures': ['6 cylinders', 'all-wheel drive', 'convertible'],\n",
       " 'vin': '1234567890',\n",
       " 'numberOfDoors': 2,\n",
       " 'registrationCountry': {'name': 'United States of America', 'code3': 'USA'},\n",
       " 'registrationDate': datetime.date(2023, 6, 1),\n",
       " 'licensePlate': 'AAA-BBB'}"
      ]
     },
     "execution_count": 12,
     "metadata": {},
     "output_type": "execute_result"
    }
   ],
   "source": [
    "deserialized"
   ]
  },
  {
   "cell_type": "code",
   "execution_count": 13,
   "id": "40921960",
   "metadata": {},
   "outputs": [],
   "source": [
    "assert car.model_dump(by_alias=True) == expected_serialized_by_alias"
   ]
  }
 ],
 "metadata": {
  "kernelspec": {
   "display_name": ".venv",
   "language": "python",
   "name": "python3"
  },
  "language_info": {
   "codemirror_mode": {
    "name": "ipython",
    "version": 3
   },
   "file_extension": ".py",
   "mimetype": "text/x-python",
   "name": "python",
   "nbconvert_exporter": "python",
   "pygments_lexer": "ipython3",
   "version": "3.12.4"
  }
 },
 "nbformat": 4,
 "nbformat_minor": 5
}
