{
 "cells": [
  {
   "cell_type": "code",
   "execution_count": 1,
   "id": "903f542e",
   "metadata": {},
   "outputs": [
    {
     "name": "stdout",
     "output_type": "stream",
     "text": [
      "Overwriting requirements.txt\n"
     ]
    }
   ],
   "source": [
    "%%writefile requirements.txt\n",
    "\n",
    "pydantic"
   ]
  },
  {
   "cell_type": "code",
   "execution_count": 2,
   "id": "ec25ce08",
   "metadata": {},
   "outputs": [
    {
     "name": "stdout",
     "output_type": "stream",
     "text": [
      "Requirement already satisfied: pydantic in ./.venv/lib/python3.12/site-packages (from -r requirements.txt (line 2)) (2.10.6)\n",
      "Requirement already satisfied: annotated-types>=0.6.0 in ./.venv/lib/python3.12/site-packages (from pydantic->-r requirements.txt (line 2)) (0.7.0)\n",
      "Requirement already satisfied: pydantic-core==2.27.2 in ./.venv/lib/python3.12/site-packages (from pydantic->-r requirements.txt (line 2)) (2.27.2)\n",
      "Requirement already satisfied: typing-extensions>=4.12.2 in ./.venv/lib/python3.12/site-packages (from pydantic->-r requirements.txt (line 2)) (4.12.2)\n",
      "\n",
      "\u001b[1m[\u001b[0m\u001b[34;49mnotice\u001b[0m\u001b[1;39;49m]\u001b[0m\u001b[39;49m A new release of pip is available: \u001b[0m\u001b[31;49m25.0\u001b[0m\u001b[39;49m -> \u001b[0m\u001b[32;49m25.0.1\u001b[0m\n",
      "\u001b[1m[\u001b[0m\u001b[34;49mnotice\u001b[0m\u001b[1;39;49m]\u001b[0m\u001b[39;49m To update, run: \u001b[0m\u001b[32;49mpip install --upgrade pip\u001b[0m\n"
     ]
    }
   ],
   "source": [
    "!pip install -r requirements.txt"
   ]
  },
  {
   "cell_type": "markdown",
   "id": "2b33413a-7989-49bd-80b8-cefada969138",
   "metadata": {},
   "source": [
    "# Pydantic Project"
   ]
  },
  {
   "cell_type": "markdown",
   "id": "5fd08094-48bf-49f4-9891-c2bad75496f6",
   "metadata": {},
   "source": [
    "We are going to build a model for an automobile. \n",
    "\n",
    "Throughout the course, at the end of each section you will add on to this model, refactor some parts of it, or create related models that will then be used in conjunction with this automobile model when we get to model composition."
   ]
  },
  {
   "cell_type": "markdown",
   "id": "a1763798-6014-4917-8ed7-e44947703e70",
   "metadata": {},
   "source": [
    "To start, you should create an `Automobile` model that contains the following fields:\n",
    "- `manufacturer`, string, required, not nullable\n",
    "- `series_name`, string, required, not nullable\n",
    "- `type_`, string, required, not nullable\n",
    "- `is_electric`, boolean, defaults to `False`, not nullable\n",
    "- `manufactured_date`, date, required (hint use `date` from `datetime` module as your field type hint), not nullable\n",
    "- `base_msrp_usd`, float, required, not nullable\n",
    "- `vin`, string, required, not nullable\n",
    "- `number_of_doors`, integer, defaults to `4`, not nullable\n",
    "- `registration_country`, string, defaults to `None`\n",
    "- `license_plate`, string, defaults to `None`"
   ]
  },
  {
   "cell_type": "markdown",
   "id": "eed516d1-032d-4cfe-add2-2270ee0f88ee",
   "metadata": {},
   "source": [
    "Once you have created your model, you should test deserializing and serializing your model and make sure everything works."
   ]
  },
  {
   "cell_type": "code",
   "execution_count": 3,
   "id": "197b2a6f",
   "metadata": {},
   "outputs": [],
   "source": [
    "from pydantic import BaseModel\n",
    "from datetime import date\n",
    "\n",
    "class Automobile(BaseModel):\n",
    "    manufacturer: str\n",
    "    series_name: str\n",
    "    type_: str\n",
    "    is_electric : bool = False\n",
    "    manufactured_date: date\n",
    "    base_msrp_usd : float\n",
    "    vin : str\n",
    "    number_of_doors : int = 4\n",
    "    registration_country : str | None = None\n",
    "    license_plate : str | None = None\n",
    "    "
   ]
  },
  {
   "cell_type": "markdown",
   "id": "a577980e",
   "metadata": {},
   "source": [
    "You can test your model by deserializing the following input data, and comparing the serialization of each of those models to the provided Python dictionaries.\n",
    "\n",
    "In other words, test them by doing something like this for both cases:\n",
    "- create model by deserializing the data\n",
    "- check the model's serialization to `dict` is equal to the provided expected dictionary"
   ]
  },
  {
   "cell_type": "code",
   "execution_count": 4,
   "id": "57f64f30-0f66-4dbd-b099-884d6a06331a",
   "metadata": {},
   "outputs": [],
   "source": [
    "# Python dictionary\n",
    "\n",
    "data = {\n",
    "    \"manufacturer\": \"BMW\",\n",
    "    \"series_name\": \"M4\",\n",
    "    \"type_\": \"Convertible\",\n",
    "    \"is_electric\": False,\n",
    "    \"manufactured_date\": \"2023-01-01\",\n",
    "    \"base_msrp_usd\": 93_300,\n",
    "    \"vin\": \"1234567890\",\n",
    "    \"number_of_doors\": 2,\n",
    "    \"registration_country\": \"France\",\n",
    "    \"license_plate\": \"AAA-BBB\",\n",
    "}\n",
    "\n",
    "data_expected_serialization = {\n",
    "    'manufacturer': 'BMW',\n",
    "    'series_name': 'M4',\n",
    "    'type_': 'Convertible',\n",
    "    'is_electric': False,\n",
    "    'manufactured_date': date(2023,1,1),\n",
    "    'base_msrp_usd': 93_300,\n",
    "    'vin': '1234567890',\n",
    "    'number_of_doors': 2,\n",
    "    'registration_country': 'France',\n",
    "    'license_plate': 'AAA-BBB',\n",
    "}"
   ]
  },
  {
   "cell_type": "code",
   "execution_count": 5,
   "id": "56861474-d1b1-4bfb-937a-2eaf353022d8",
   "metadata": {},
   "outputs": [],
   "source": [
    "# JSON\n",
    "data_json = '''\n",
    "{\n",
    "    \"manufacturer\": \"BMW\",\n",
    "    \"series_name\": \"M4\",\n",
    "    \"type_\": \"Convertible\",\n",
    "    \"manufactured_date\": \"2023-01-01\",\n",
    "    \"base_msrp_usd\": 93300,\n",
    "    \"vin\": \"1234567890\"\n",
    "}\n",
    "'''\n",
    "\n",
    "data_json_expected_serialization = {\n",
    "    'manufacturer': 'BMW',\n",
    "    'series_name': 'M4',\n",
    "    'type_': 'Convertible',\n",
    "    'is_electric': False,\n",
    "    'manufactured_date': date(2023, 1, 1),\n",
    "    'base_msrp_usd': 93_300,\n",
    "    'vin': '1234567890',\n",
    "    'number_of_doors': 4,\n",
    "    'registration_country': None,\n",
    "    'license_plate': None,\n",
    "}"
   ]
  },
  {
   "cell_type": "code",
   "execution_count": 6,
   "id": "a1990eee",
   "metadata": {},
   "outputs": [],
   "source": [
    "auto1 = Automobile.model_validate(data)"
   ]
  },
  {
   "cell_type": "code",
   "execution_count": 7,
   "id": "402c1ab7",
   "metadata": {},
   "outputs": [],
   "source": [
    "assert auto1.model_dump() ==  data_expected_serialization"
   ]
  },
  {
   "cell_type": "code",
   "execution_count": 8,
   "id": "5afce25d",
   "metadata": {},
   "outputs": [],
   "source": [
    "auto2 = Automobile.model_validate_json(data_json)"
   ]
  },
  {
   "cell_type": "code",
   "execution_count": 9,
   "id": "e88e4ab0",
   "metadata": {},
   "outputs": [],
   "source": [
    "assert auto2.model_dump() ==  data_json_expected_serialization"
   ]
  },
  {
   "cell_type": "code",
   "execution_count": 10,
   "id": "141eedab",
   "metadata": {},
   "outputs": [
    {
     "name": "stdout",
     "output_type": "stream",
     "text": [
      "1 validation error for Automobile\n",
      "is_electric\n",
      "  Input should be a valid boolean, unable to interpret input [type=bool_parsing, input_value=100, input_type=int]\n",
      "    For further information visit https://errors.pydantic.dev/2.10/v/bool_parsing\n",
      "1 validation error for Automobile\n",
      "manufacturer\n",
      "  Field required [type=missing, input_value={'series_name': 'M4', 'ty...cense_plate': 'AAA-BBB'}, input_type=dict]\n",
      "    For further information visit https://errors.pydantic.dev/2.10/v/missing\n"
     ]
    }
   ],
   "source": [
    "from pydantic import ValidationError\n",
    "data_invalid = data.copy()\n",
    "data_invalid['is_electric'] = 100\n",
    "try:\n",
    "    Automobile.model_validate(data_invalid)\n",
    "except ValidationError as e:\n",
    "    print(e)\n",
    "    assert \"Input should be a valid boolean\" in str(e)\n",
    "\n",
    "data_invalid = data.copy()\n",
    "del data_invalid['manufacturer']\n",
    "try:\n",
    "    Automobile.model_validate(data_invalid)\n",
    "except ValidationError as e:\n",
    "    print(e)\n",
    "    assert \"Field required\" in str(e)\n",
    "    \n"
   ]
  },
  {
   "cell_type": "markdown",
   "id": "44be644a",
   "metadata": {},
   "source": [
    "Modify your `Automobile` model to implement the following:\n",
    "- set model to forbid extra fields\n",
    "- set model to strip whitespace from all string fields\n",
    "- set model to validate defaults and assignments\n",
    "- use the enum provided below for the `type_` field"
   ]
  },
  {
   "cell_type": "code",
   "execution_count": 11,
   "id": "2058d3e6",
   "metadata": {},
   "outputs": [],
   "source": [
    "from enum import Enum\n",
    "\n",
    "class AutomobileType(Enum):\n",
    "    sedan = \"Sedan\"\n",
    "    coupe = \"Coupe\"\n",
    "    convertible = \"Convertible\"\n",
    "    suv = \"SUV\"\n",
    "    truck = \"Truck\""
   ]
  },
  {
   "cell_type": "markdown",
   "id": "dfe61b70",
   "metadata": {},
   "source": [
    "You can test your model by serializing and deserializing this data:"
   ]
  },
  {
   "cell_type": "code",
   "execution_count": 12,
   "id": "5129d040",
   "metadata": {},
   "outputs": [],
   "source": [
    "data_json = '''\n",
    "{\n",
    "    \"manufacturer\": \" BMW \",\n",
    "    \"series_name\": \" M4 \",\n",
    "    \"type_\": \"Convertible\",\n",
    "    \"manufactured_date\": \"2023-01-01\",\n",
    "    \"base_msrp_usd\": 93300,\n",
    "    \"vin\": \" 1234567890 \"\n",
    "}\n",
    "'''\n",
    "\n",
    "data_json_expected_serialization = {\n",
    "    'manufacturer': 'BMW',\n",
    "    'series_name': 'M4',\n",
    "    'type_': AutomobileType.convertible,\n",
    "    'is_electric': False,\n",
    "    'manufactured_date': date(2023, 1, 1),\n",
    "    'base_msrp_usd': 93300.0,\n",
    "    'vin': '1234567890',\n",
    "    'number_of_doors': 4,\n",
    "    'registration_country': None,\n",
    "    'license_plate': None\n",
    "}"
   ]
  },
  {
   "cell_type": "code",
   "execution_count": 13,
   "id": "a46b7cc6",
   "metadata": {},
   "outputs": [],
   "source": [
    "from pydantic import ConfigDict\n",
    "\n",
    "class Automobile(BaseModel):\n",
    "    model_config = ConfigDict(extra='forbid',\n",
    "                              str_strip_whitespace=True,\n",
    "                              validate_default=True,\n",
    "                              validate_assignment=True)\n",
    "    manufacturer: str\n",
    "    series_name: str\n",
    "    type_: AutomobileType\n",
    "    is_electric : bool = False\n",
    "    manufactured_date: date\n",
    "    base_msrp_usd : float\n",
    "    vin : str\n",
    "    number_of_doors : int = 4\n",
    "    registration_country : str | None = None\n",
    "    license_plate : str | None = None"
   ]
  },
  {
   "cell_type": "code",
   "execution_count": 14,
   "id": "6b774048",
   "metadata": {},
   "outputs": [],
   "source": [
    "m = Automobile.model_validate_json(data_json)\n",
    "assert m.model_dump() == data_json_expected_serialization "
   ]
  },
  {
   "cell_type": "code",
   "execution_count": 15,
   "id": "317e5f8b",
   "metadata": {},
   "outputs": [
    {
     "name": "stdout",
     "output_type": "stream",
     "text": [
      "1 validation error for Automobile\n",
      "extra_field\n",
      "  Extra inputs are not permitted [type=extra_forbidden, input_value='extra', input_type=str]\n",
      "    For further information visit https://errors.pydantic.dev/2.10/v/extra_forbidden\n"
     ]
    }
   ],
   "source": [
    "from pydantic import ValidationError\n",
    "data_invalid = data.copy()\n",
    "data_invalid['extra_field'] = 'extra'\n",
    "try:\n",
    "    Automobile.model_validate(data_invalid)\n",
    "except ValidationError as e:\n",
    "    print(e)\n",
    "    assert \"Extra inputs are not permitted\" in str(e)"
   ]
  },
  {
   "cell_type": "markdown",
   "id": "3d7cbceb",
   "metadata": {},
   "source": [
    "Modify your `Automobile` model to implement the following:\n",
    "\n",
    "- auto generate camel case aliases\n",
    "- the field `type_` in our model is provided as `type` in source data, and should also serialize to `type`.\n",
    "- the data we receive contains the following field names that need to map to our own model field names - but we still want our camelized field names to be used for serialization. Account for that (without renaming the field names):\n",
    "    - `number_of_doors` is provided as `doors`\n",
    "    - `manufactured_date` is provided as `completionDate`\n",
    "- The field `base_msrp_usd` is provided as `msrpUSD`, and we want the serialization name to be `baseMSRPUSD`\n",
    "- we want the JSON serialized output of `manufactured_date` to be this pattern: `YYYY/MM/DD` (e.g. `2020/01/01`), but serializing to a Python dict should remain as a `date` object."
   ]
  },
  {
   "cell_type": "markdown",
   "id": "b39599a3",
   "metadata": {},
   "source": [
    "The following source data:"
   ]
  },
  {
   "cell_type": "code",
   "execution_count": 16,
   "id": "bee8f404",
   "metadata": {},
   "outputs": [],
   "source": [
    "data_json = '''\n",
    "{\n",
    "    \"manufacturer\": \"BMW\",\n",
    "    \"seriesName\": \"M4\",\n",
    "    \"type\": \"Convertible\",\n",
    "    \"isElectric\": false,\n",
    "    \"completionDate\": \"2023-01-01\",\n",
    "    \"msrpUSD\": 93300,\n",
    "    \"vin\": \"1234567890\",\n",
    "    \"doors\": 2,\n",
    "    \"registrationCountry\": \"France\",\n",
    "    \"licensePlate\": \"AAA-BBB\"\n",
    "}\n",
    "'''"
   ]
  },
  {
   "cell_type": "markdown",
   "id": "b2e1857a",
   "metadata": {},
   "source": [
    "should deserialaze to these:"
   ]
  },
  {
   "cell_type": "code",
   "execution_count": 17,
   "id": "4d199acc",
   "metadata": {},
   "outputs": [],
   "source": [
    "expected_serialized_dict = {\n",
    "    'manufacturer': 'BMW',\n",
    "    'series_name': 'M4',\n",
    "    'type_': AutomobileType.convertible,\n",
    "    'is_electric': False,\n",
    "    'manufactured_date': date(2023, 1, 1),\n",
    "    'base_msrp_usd': 93300.0,\n",
    "    'vin': '1234567890',\n",
    "    'number_of_doors': 2,\n",
    "    'registration_country': 'France',\n",
    "    'license_plate': 'AAA-BBB'\n",
    "}\n",
    "\n",
    "expected_serialized_dict_by_alias = {\n",
    "    'manufacturer': 'BMW',\n",
    "    'seriesName': 'M4',\n",
    "    'type': AutomobileType.convertible,\n",
    "    'isElectric': False,\n",
    "    'manufacturedDate': date(2023, 1, 1),\n",
    "    'baseMSRPUSD': 93300.0,\n",
    "    'vin': '1234567890',\n",
    "    'numberOfDoors': 2,\n",
    "    'registrationCountry': 'France',\n",
    "    'licensePlate': 'AAA-BBB'\n",
    "}\n",
    "\n",
    "expected_serialized_json_by_alias = (\n",
    "    '{\"manufacturer\":\"BMW\",\"seriesName\":\"M4\",\"type\":\"Convertible\",'\n",
    "    '\"isElectric\":false,\"manufacturedDate\":\"2023/01/01\",\"baseMSRPUSD\":93300.0,'\n",
    "    '\"vin\":\"1234567890\",\"numberOfDoors\":2,\"registrationCountry\":\"France\",'\n",
    "    '\"licensePlate\":\"AAA-BBB\"}'\n",
    ")"
   ]
  },
  {
   "cell_type": "code",
   "execution_count": 18,
   "id": "421bd092",
   "metadata": {},
   "outputs": [],
   "source": [
    "from pydantic.alias_generators import to_camel\n",
    "from pydantic import Field, field_serializer\n",
    "class Automobile(BaseModel):\n",
    "    model_config = ConfigDict(extra='forbid',\n",
    "                              str_strip_whitespace=True,\n",
    "                              validate_default=True,\n",
    "                              validate_assignment=True, alias_generator=to_camel)\n",
    "    manufacturer: str\n",
    "    series_name: str\n",
    "    type_: AutomobileType = Field(alias='type')\n",
    "    is_electric : bool = False\n",
    "    manufactured_date: date = Field(validation_alias='completionDate')\n",
    "    base_msrp_usd : float = Field(validation_alias='msrpUSD', serialization_alias='baseMSRPUSD')\n",
    "    vin : str\n",
    "    number_of_doors : int = Field(default=4, validation_alias=\"doors\")\n",
    "    registration_country : str | None = None\n",
    "    license_plate : str | None = None\n",
    "    \n",
    "    @field_serializer(\"manufactured_date\", when_used=\"json-unless-none\")\n",
    "    def serialize_manufactured_date(self, value:date):\n",
    "        return value.strftime(\"%Y/%m/%d\")"
   ]
  },
  {
   "cell_type": "code",
   "execution_count": 19,
   "id": "76b44b6a",
   "metadata": {},
   "outputs": [],
   "source": [
    "m = Automobile.model_validate_json(data_json)"
   ]
  },
  {
   "cell_type": "code",
   "execution_count": 20,
   "id": "626edd7b",
   "metadata": {},
   "outputs": [],
   "source": [
    "assert m.model_dump() == expected_serialized_dict"
   ]
  },
  {
   "cell_type": "code",
   "execution_count": 21,
   "id": "d46fdca2",
   "metadata": {},
   "outputs": [],
   "source": [
    "assert m.model_dump(by_alias=True) == expected_serialized_dict_by_alias"
   ]
  },
  {
   "cell_type": "code",
   "execution_count": 22,
   "id": "248d29c2",
   "metadata": {},
   "outputs": [],
   "source": [
    "assert m.model_dump_json(by_alias=True) == expected_serialized_json_by_alias"
   ]
  },
  {
   "cell_type": "markdown",
   "id": "0bd621d6",
   "metadata": {},
   "source": [
    "Modify your `Automobile` model to implement the following:\n",
    "- add a field named `id_`\n",
    "    - make it the **first** field in your model\n",
    "    - if provided in the data, it will be named `id`\n",
    "    - it should deserialize to `id`\n",
    "    - the field type should be a uuid4\n",
    "    - for now, have it default to `None`"
   ]
  },
  {
   "cell_type": "markdown",
   "id": "94bd193f",
   "metadata": {},
   "source": [
    "You can use this data to test your model:"
   ]
  },
  {
   "cell_type": "code",
   "execution_count": 23,
   "id": "a15085c2",
   "metadata": {},
   "outputs": [],
   "source": [
    "from uuid import UUID\n",
    "\n",
    "data = {\n",
    "    \"id\": \"c4e60f4a-3c7f-4da5-9b3f-07aee50b23e7\",\n",
    "    \"manufacturer\": \"BMW\",\n",
    "    \"seriesName\": \"M4\",\n",
    "    \"type\": \"Convertible\",\n",
    "    \"isElectric\": False,\n",
    "    \"completionDate\": \"2023-01-01\",\n",
    "    \"msrpUSD\": 93_300,\n",
    "    \"vin\": \"1234567890\",\n",
    "    \"doors\": 2,\n",
    "    \"registrationCountry\": \"France\",\n",
    "    \"licensePlate\": \"AAA-BBB\"\n",
    "}\n",
    "\n",
    "expected_serialized_by_alias = {\n",
    "    'id': UUID('c4e60f4a-3c7f-4da5-9b3f-07aee50b23e7'),\n",
    "    'manufacturer': 'BMW',\n",
    "    'seriesName': 'M4',\n",
    "    'type': AutomobileType.convertible,\n",
    "    'isElectric': False,\n",
    "    'manufacturedDate': date(2023, 1, 1),\n",
    "    'baseMSRPUSD': 93300.0,\n",
    "    'vin': '1234567890',\n",
    "    'numberOfDoors': 2,\n",
    "    'registrationCountry': 'France',\n",
    "    'licensePlate': 'AAA-BBB'\n",
    "}\n",
    "\n",
    "data_no_id = {\n",
    "    \"manufacturer\": \"BMW\",\n",
    "    \"seriesName\": \"M4\",\n",
    "    \"type\": \"Convertible\",\n",
    "    \"isElectric\": False,\n",
    "    \"completionDate\": \"2023-01-01\",\n",
    "    \"msrpUSD\": 93_300,\n",
    "    \"vin\": \"1234567890\",\n",
    "    \"doors\": 2,\n",
    "    \"registrationCountry\": \"France\",\n",
    "    \"licensePlate\": \"AAA-BBB\"\n",
    "}\n",
    "\n",
    "expected_serialization_data_no_id_by_alias = {\n",
    "    'id': None,\n",
    "    'manufacturer': 'BMW',\n",
    "    'seriesName': 'M4',\n",
    "    'type': AutomobileType.convertible,\n",
    "    'isElectric': False,\n",
    "    'manufacturedDate': date(2023, 1, 1),\n",
    "    'baseMSRPUSD': 93300.0,\n",
    "    'vin': '1234567890',\n",
    "    'numberOfDoors': 2,\n",
    "    'registrationCountry': 'France',\n",
    "    'licensePlate': 'AAA-BBB'\n",
    "}"
   ]
  },
  {
   "cell_type": "code",
   "execution_count": 24,
   "id": "7a9d5a54",
   "metadata": {},
   "outputs": [],
   "source": [
    "from pydantic import UUID4\n",
    "class Automobile(BaseModel):\n",
    "    model_config = ConfigDict(extra='forbid',\n",
    "                              str_strip_whitespace=True,\n",
    "                              validate_default=True,\n",
    "                              validate_assignment=True, alias_generator=to_camel)\n",
    "    id_: UUID4 | None = Field(alias='id',default=None)\n",
    "    manufacturer: str\n",
    "    series_name: str\n",
    "    type_: AutomobileType = Field(alias='type')\n",
    "    is_electric : bool = False\n",
    "    manufactured_date: date = Field(validation_alias='completionDate')\n",
    "    base_msrp_usd : float = Field(validation_alias='msrpUSD', serialization_alias='baseMSRPUSD')\n",
    "    vin : str\n",
    "    number_of_doors : int = Field(default=4, validation_alias=\"doors\")\n",
    "    registration_country : str | None = None\n",
    "    license_plate : str | None = None\n",
    "    \n",
    "    @field_serializer(\"manufactured_date\", when_used=\"json-unless-none\")\n",
    "    def serialize_manufactured_date(self, value:date):\n",
    "        return value.strftime(\"%Y/%m/%d\")"
   ]
  },
  {
   "cell_type": "code",
   "execution_count": 25,
   "id": "1ee7615d",
   "metadata": {},
   "outputs": [],
   "source": [
    "m = Automobile.model_validate(data)"
   ]
  },
  {
   "cell_type": "code",
   "execution_count": 26,
   "id": "1877b2ee",
   "metadata": {},
   "outputs": [],
   "source": [
    "assert m.model_dump(by_alias=True) == expected_serialized_by_alias\n"
   ]
  },
  {
   "cell_type": "code",
   "execution_count": 27,
   "id": "78c5fda3",
   "metadata": {},
   "outputs": [],
   "source": [
    "m2 = Automobile.model_validate(data_no_id)"
   ]
  },
  {
   "cell_type": "code",
   "execution_count": 28,
   "id": "9d7b0a90",
   "metadata": {},
   "outputs": [],
   "source": [
    "assert m2.model_dump(by_alias=True) == expected_serialization_data_no_id_by_alias\n"
   ]
  },
  {
   "cell_type": "markdown",
   "id": "649c5597",
   "metadata": {},
   "source": [
    "Modify your `Automobile` model to implement the following:\n",
    "- constrain the manufactured date to be no earlier than `1980-01-01` (Hint: how did you constrain numbers using `Field`? works the same with dates)\n",
    "- numbers of doors should be constrained to be a min of 2, a max of 4, and a multiple of 2 (so 2 doors, or 4 doors)\n",
    "- change `id` to no longer be nullable, and provide a uuid4 as a default (make sure the default is not always the same when creating multiple models)"
   ]
  },
  {
   "cell_type": "markdown",
   "id": "2115778c",
   "metadata": {},
   "source": [
    "Test data:"
   ]
  },
  {
   "cell_type": "code",
   "execution_count": 29,
   "id": "a84558d4",
   "metadata": {},
   "outputs": [],
   "source": [
    "data = {\n",
    "    \"id\": \"c4e60f4a-3c7f-4da5-9b3f-07aee50b23e7\",\n",
    "    \"manufacturer\": \"BMW\",\n",
    "    \"seriesName\": \"M4\",\n",
    "    \"type\": \"Convertible\",\n",
    "    \"isElectric\": False,\n",
    "    \"completionDate\": \"2023-01-01\",\n",
    "    \"msrpUSD\": 93_300,\n",
    "    \"vin\": \"1234567890\",\n",
    "    \"doors\": 2,\n",
    "    \"registrationCountry\": \"France\",\n",
    "    \"licensePlate\": \"AAA-BBB\"\n",
    "}"
   ]
  },
  {
   "cell_type": "markdown",
   "id": "c51a1f82",
   "metadata": {},
   "source": [
    "Expected serialization to dict by alias is:"
   ]
  },
  {
   "cell_type": "code",
   "execution_count": 30,
   "id": "7acadff8",
   "metadata": {},
   "outputs": [],
   "source": [
    "from uuid import UUID\n",
    "\n",
    "expected_serialized_by_alias = {\n",
    "    'id': UUID('c4e60f4a-3c7f-4da5-9b3f-07aee50b23e7'),\n",
    "    'manufacturer': 'BMW',\n",
    "    'seriesName': 'M4',\n",
    "    'type': AutomobileType.convertible,\n",
    "    'isElectric': False,\n",
    "    'manufacturedDate': date(2023, 1, 1),\n",
    "    'baseMSRPUSD': 93300.0,\n",
    "    'vin': '1234567890',\n",
    "    'numberOfDoors': 2,\n",
    "    'registrationCountry': 'France',\n",
    "    'licensePlate': 'AAA-BBB'\n",
    "}"
   ]
  },
  {
   "cell_type": "code",
   "execution_count": 31,
   "id": "e6e4167d",
   "metadata": {},
   "outputs": [],
   "source": [
    "data_no_id = {\n",
    "    \"manufacturer\": \"BMW\",\n",
    "    \"seriesName\": \"M4\",\n",
    "    \"type\": \"Convertible\",\n",
    "    \"isElectric\": False,\n",
    "    \"completionDate\": \"2023-01-01\",\n",
    "    \"msrpUSD\": 93_300,\n",
    "    \"vin\": \"1234567890\",\n",
    "    \"doors\": 2,\n",
    "    \"registrationCountry\": \"France\",\n",
    "    \"licensePlate\": \"AAA-BBB\"\n",
    "}"
   ]
  },
  {
   "cell_type": "code",
   "execution_count": 32,
   "id": "1e55eac7",
   "metadata": {},
   "outputs": [],
   "source": [
    "expected_serialization_data_no_id_by_alias = {\n",
    "    'id': None,\n",
    "    'manufacturer': 'BMW',\n",
    "    'seriesName': 'M4',\n",
    "    'type': AutomobileType.convertible,\n",
    "    'isElectric': False,\n",
    "    'manufacturedDate': date(2023, 1, 1),\n",
    "    'baseMSRPUSD': 93300.0,\n",
    "    'vin': '1234567890',\n",
    "    'numberOfDoors': 2,\n",
    "    'registrationCountry': 'France',\n",
    "    'licensePlate': 'AAA-BBB'\n",
    "}"
   ]
  },
  {
   "cell_type": "code",
   "execution_count": 33,
   "id": "97ed14c3",
   "metadata": {},
   "outputs": [],
   "source": [
    "from uuid import uuid4\n",
    "\n",
    "class Automobile(BaseModel):\n",
    "    model_config = ConfigDict(\n",
    "        extra=\"forbid\",\n",
    "        str_strip_whitespace=True,\n",
    "        validate_default=True,\n",
    "        validate_assignment=True,\n",
    "        alias_generator=to_camel,\n",
    "    )\n",
    "\n",
    "    id_: UUID4 = Field(alias=\"id\", default_factory=uuid4) \n",
    "    manufacturer: str\n",
    "    series_name: str\n",
    "    type_: AutomobileType = Field(alias=\"type\")\n",
    "    is_electric: bool = False\n",
    "    manufactured_date: date = Field(validation_alias=\"completionDate\", ge=date(1980, 1, 1))\n",
    "    base_msrp_usd: float = Field(validation_alias=\"msrpUSD\", serialization_alias=\"baseMSRPUSD\")\n",
    "    vin: str\n",
    "    number_of_doors: int = Field(default=4, validation_alias=\"doors\",ge=2,le=4,multiple_of=2)\n",
    "    registration_country: str | None = None\n",
    "    license_plate: str | None = None\n",
    "\n",
    "    @field_serializer(\"manufactured_date\", when_used=\"json-unless-none\")\n",
    "    def serialize_date(self, value: date) -> str:\n",
    "        return value.strftime(\"%Y/%m/%d\")"
   ]
  },
  {
   "cell_type": "markdown",
   "id": "a47808fa",
   "metadata": {},
   "source": [
    "Tests"
   ]
  },
  {
   "cell_type": "code",
   "execution_count": 34,
   "id": "28264f9d",
   "metadata": {},
   "outputs": [],
   "source": [
    "m = Automobile.model_validate(data)\n",
    "assert m.model_dump(by_alias=True) == expected_serialized_by_alias"
   ]
  },
  {
   "cell_type": "code",
   "execution_count": 35,
   "id": "18b6a141",
   "metadata": {},
   "outputs": [],
   "source": [
    "m = Automobile.model_validate(data_no_id)\n",
    "m2 = Automobile.model_validate(data_no_id)\n",
    "assert m.id_ != m2.id_"
   ]
  },
  {
   "cell_type": "markdown",
   "id": "8428c9a8",
   "metadata": {},
   "source": [
    "Create an annotated type, named `BoundedString` to define a string that has a minimum of 2 characters, and no more than 50 characters.\n",
    "\n",
    "Modify your `Automobile` model to use this annotated type for the following fields:\n",
    "- `manufacturer`\n",
    "- `series_name`\n",
    "- `vin`\n",
    "- `registration_country`\n",
    "- `license_plate`\n",
    "\n",
    "Create an annotated type, called `BoundedList` that uses a type variable to define a list of elements with a minimum of `1` element and a maximum of `5` elements.\n",
    "\n",
    "Using this annotated type, add a new field to the model as follows:\n",
    "- field name should be `top_features`\n",
    "- place it just before the `vin` field\n",
    "- it should both deserialize from and serialize to `topFeatures`\n",
    "- if should be a bounded list of strings, which themselves shoudl be bounded to a minimum of `2` chars, and no more than `50`. (Hint: use the `BoundedString` type you create as the type when you define the field type in your model with `BoundedList`)\n",
    "- make it optional, with a default of `None`"
   ]
  },
  {
   "cell_type": "markdown",
   "id": "885a2603",
   "metadata": {},
   "source": [
    "Use this data to test your model:"
   ]
  },
  {
   "cell_type": "code",
   "execution_count": 36,
   "id": "d1aa9376",
   "metadata": {},
   "outputs": [],
   "source": [
    "from uuid import UUID\n",
    "\n",
    "data = {\n",
    "    \"id\": \"c4e60f4a-3c7f-4da5-9b3f-07aee50b23e7\",\n",
    "    \"manufacturer\": \"BMW\",\n",
    "    \"seriesName\": \"M4 Competition xDrive\",\n",
    "    \"type\": \"Convertible\",\n",
    "    \"isElectric\": False,\n",
    "    \"completionDate\": \"2023-01-01\",\n",
    "    \"msrpUSD\": 93_300,\n",
    "    \"topFeatures\": [\"6 cylinders\", \"all-wheel drive\", \"convertible\"],\n",
    "    \"vin\": \"1234567890\",\n",
    "    \"doors\": 2,\n",
    "    \"registrationCountry\": \"France\",\n",
    "    \"licensePlate\": \"AAA-BBB\"\n",
    "}\n",
    "\n",
    "expected_serialized_by_alias = {\n",
    "    'id': UUID('c4e60f4a-3c7f-4da5-9b3f-07aee50b23e7'),\n",
    "    'manufacturer': 'BMW',\n",
    "    'seriesName': 'M4 Competition xDrive',\n",
    "    'type': AutomobileType.convertible,\n",
    "    'isElectric': False,\n",
    "    'manufacturedDate': date(2023, 1, 1),\n",
    "    'baseMSRPUSD': 93300.0,\n",
    "    'topFeatures': ['6 cylinders', 'all-wheel drive', 'convertible'],\n",
    "    'vin': '1234567890',\n",
    "    'numberOfDoors': 2,\n",
    "    'registrationCountry': 'France',\n",
    "    'licensePlate': 'AAA-BBB'\n",
    "}"
   ]
  },
  {
   "cell_type": "code",
   "execution_count": 37,
   "id": "8e6b3845",
   "metadata": {},
   "outputs": [],
   "source": [
    "from typing import Annotated, TypeVar\n",
    "from pydantic import Field\n",
    "\n",
    "BoundedString = Annotated[str, Field(min_length=2, max_length=50)]\n",
    "\n",
    "T = TypeVar('T')\n",
    "\n",
    "BoundedList = Annotated[list[T], Field(min_length=1, max_length=5)]"
   ]
  },
  {
   "cell_type": "code",
   "execution_count": 38,
   "id": "77a3845c",
   "metadata": {},
   "outputs": [],
   "source": [
    "from uuid import uuid4\n",
    "\n",
    "class Automobile(BaseModel):\n",
    "    model_config = ConfigDict(\n",
    "        extra=\"forbid\",\n",
    "        str_strip_whitespace=True,\n",
    "        validate_default=True,\n",
    "        validate_assignment=True,\n",
    "        alias_generator=to_camel,\n",
    "    )\n",
    "\n",
    "    id_: UUID4 = Field(alias=\"id\", default_factory=uuid4) \n",
    "    manufacturer: BoundedString\n",
    "    series_name: BoundedString\n",
    "    type_: AutomobileType = Field(alias=\"type\")\n",
    "    is_electric: bool = False\n",
    "    manufactured_date: date = Field(validation_alias=\"completionDate\", ge=date(1980, 1, 1))\n",
    "    base_msrp_usd: float = Field(validation_alias=\"msrpUSD\", serialization_alias=\"baseMSRPUSD\")\n",
    "    top_features: BoundedList[BoundedString] | None = None\n",
    "    vin: BoundedString\n",
    "    number_of_doors: int = Field(default=4, validation_alias=\"doors\",ge=2,le=4,multiple_of=2)\n",
    "    registration_country: BoundedString | None = None\n",
    "    license_plate: BoundedString | None = None\n",
    "\n",
    "    @field_serializer(\"manufactured_date\", when_used=\"json-unless-none\")\n",
    "    def serialize_date(self, value: date) -> str:\n",
    "        return value.strftime(\"%Y/%m/%d\")"
   ]
  },
  {
   "cell_type": "code",
   "execution_count": 39,
   "id": "ce89af2a",
   "metadata": {},
   "outputs": [
    {
     "data": {
      "text/plain": [
       "Automobile(id_=UUID('c4e60f4a-3c7f-4da5-9b3f-07aee50b23e7'), manufacturer='BMW', series_name='M4 Competition xDrive', type_=<AutomobileType.convertible: 'Convertible'>, is_electric=False, manufactured_date=datetime.date(2023, 1, 1), base_msrp_usd=93300.0, top_features=['6 cylinders', 'all-wheel drive', 'convertible'], vin='1234567890', number_of_doors=2, registration_country='France', license_plate='AAA-BBB')"
      ]
     },
     "execution_count": 39,
     "metadata": {},
     "output_type": "execute_result"
    }
   ],
   "source": [
    "car = Automobile.model_validate(data)\n",
    "car"
   ]
  },
  {
   "cell_type": "code",
   "execution_count": 40,
   "id": "bbd63bcc",
   "metadata": {},
   "outputs": [],
   "source": [
    "assert car.model_dump(by_alias=True) == expected_serialized_by_alias"
   ]
  },
  {
   "cell_type": "markdown",
   "id": "2d9f5e76",
   "metadata": {},
   "source": [
    "Verify BoundedList works as expected"
   ]
  },
  {
   "cell_type": "code",
   "execution_count": 41,
   "id": "65d391e8",
   "metadata": {},
   "outputs": [
    {
     "name": "stdout",
     "output_type": "stream",
     "text": [
      "1 validation error for Test\n",
      "value\n",
      "  List should have at most 5 items after validation, not 6 [type=too_long, input_value=[1, 1, 1, 1, 1, 1], input_type=list]\n",
      "    For further information visit https://errors.pydantic.dev/2.10/v/too_long\n"
     ]
    }
   ],
   "source": [
    "\n",
    "class Test(BaseModel):\n",
    "    value : BoundedList[int]\n",
    "try:\n",
    "    Test(value=[1]*6)\n",
    "except ValidationError as e:\n",
    "    print(e)\n",
    "    assert \"List should have at most 5 items\" in str(e)"
   ]
  },
  {
   "cell_type": "markdown",
   "id": "c3bccf4f",
   "metadata": {},
   "source": [
    "There are two main changes we are going to make on our model.\n",
    "\n",
    "First, we want to add an additional field to capture when an automobile was registered. To do so add a field named `registration_date` that is implemented as follows:\n",
    "- place it right after `registration_country` in the model\n",
    "- if should be a `date` object\n",
    "- it should be optional and default to `None`\n",
    "- it should deserialize from and serialize to the camel case version of the field name\n",
    "- if cannot be earlier than the `manufactured_date`\n",
    "- just like `manufactured_date` it should serialize the data to a `YYYY/MM/DD` format for JSON serialization. (Hint: you do not need to define a second serializer for that field! The syntax is the same as what I showed you when aplying the same decorator validator to multiple fields)\n",
    "\n",
    "\n",
    "Secondly, we want to ensure that the `registration_country` only allows values from a pre-determined list of countries.\n",
    "\n",
    "We are not going to use an enum for this, as there would simply be too many values. Instead we are going to validate the country name against a \"database\".\n",
    "\n",
    "For this exercise we are not going to use an actual database, instead you can use the dictionary provided below. The dictionary keys are going to become the accepted \"input\" value for country names, and each key's value contains a tuple consisting of the country name (properly formatted), and the 3 character country code (we won't use the country code right now, but we will later).\n",
    "\n",
    "Create a custom validator for `registration_country` that validates the data being deserialized is one of the keys in that dictionary, and replace the deserialized value with the country name from the first name in the tuple.\n",
    "\n",
    "For example, if the input data contains:\n",
    "```\n",
    "{\n",
    "    ...,\n",
    "    \"registrationCountry\": \"UK\",\n",
    "    ...\n",
    "}\n",
    "```\n",
    "then, since our \"database\" gives us this info:\n",
    "```\n",
    "\"uk\": (\"United Kingdom\", \"GBR\")\n",
    "```\n",
    "the deserialized value in our model should become `United Kingdom`. "
   ]
  },
  {
   "cell_type": "markdown",
   "id": "edc23ee4",
   "metadata": {},
   "source": [
    "Your validator should validate a country name based on the lower-cased and stripped version of the string - i.e. input data such as `\"UK\"`, `\"Uk\"`, `\"uk \"` should all end up being matched with the key `\"uk\"` in the database.\n",
    "\n",
    "Use an annotated type to do this - name your new annotated type `Country`."
   ]
  },
  {
   "cell_type": "code",
   "execution_count": 42,
   "id": "e3800dcb",
   "metadata": {},
   "outputs": [],
   "source": [
    "countries = {\n",
    "    \"australia\": (\"Australia\", \"AUS\"),\n",
    "    \"canada\": (\"Canada\", \"CAN\"),\n",
    "    \"china\": (\"China\", \"CHN\"),\n",
    "    \"france\": (\"France\", \"FRA\"),\n",
    "    \"germany\": (\"Germany\", \"DEU\"),\n",
    "    \"india\": (\"India\", \"IND\"),\n",
    "    \"mexico\": (\"Mexico\", \"MEX\"),\n",
    "    \"norway\": (\"Norway\", \"NOR\"),\n",
    "    \"pakistan\": (\"Pakistan\", \"PAK\"),\n",
    "    \"san marino\": (\"San Marino\", \"SMR\"),\n",
    "    \"sanmarino\": (\"San Marino\", \"SMR\"),\n",
    "    \"spain\": (\"Spain\", \"ESP\"),\n",
    "    \"sweden\": (\"Sweden\", \"SWE\"),\n",
    "    \"united kingdom\": (\"United Kingdom\", \"GBR\"),\n",
    "    \"uk\": (\"United Kingdom\", \"GBR\"),\n",
    "    \"great britain\": (\"United Kingdom\", \"GBR\"),\n",
    "    \"britain\": (\"United Kingdom\", \"GBR\"),\n",
    "    \"us\": (\"United States of America\", \"USA\"),\n",
    "    \"united states\": (\"United States of America\", \"USA\"),\n",
    "    \"usa\": (\"United States of America\", \"USA\"),\n",
    "}"
   ]
  },
  {
   "cell_type": "markdown",
   "id": "a63943fe",
   "metadata": {},
   "source": [
    "Here is a sample data input and serialized output (dict and JSON):"
   ]
  },
  {
   "cell_type": "code",
   "execution_count": 43,
   "id": "636b5084",
   "metadata": {},
   "outputs": [],
   "source": [
    "from uuid import UUID\n",
    "\n",
    "data = {\n",
    "    \"id\": \"c4e60f4a-3c7f-4da5-9b3f-07aee50b23e7\",\n",
    "    \"manufacturer\": \"BMW\",\n",
    "    \"seriesName\": \"M4 Competition xDrive\",\n",
    "    \"type\": \"Convertible\",\n",
    "    \"isElectric\": False,\n",
    "    \"completionDate\": \"2023-01-01\",\n",
    "    \"msrpUSD\": 93_300,\n",
    "    \"topFeatures\": [\"6 cylinders\", \"all-wheel drive\", \"convertible\"],\n",
    "    \"vin\": \"1234567890\",\n",
    "    \"doors\": 2,\n",
    "    \"registrationCountry\": \"us\",\n",
    "    \"registrationDate\": \"2023-06-01\",\n",
    "    \"licensePlate\": \"AAA-BBB\"\n",
    "}\n",
    "\n",
    "expected_by_alias = {\n",
    "    'id': UUID('c4e60f4a-3c7f-4da5-9b3f-07aee50b23e7'),\n",
    "    'manufacturer': 'BMW',\n",
    "    'seriesName': 'M4 Competition xDrive',\n",
    "    'type': AutomobileType.convertible,\n",
    "    'isElectric': False,\n",
    "    'manufacturedDate': date(2023, 1, 1),\n",
    "    'baseMSRPUSD': 93300.0,\n",
    "    'topFeatures': ['6 cylinders', 'all-wheel drive', 'convertible'],\n",
    "    'vin': '1234567890',\n",
    "    'numberOfDoors': 2,\n",
    "    'registrationCountry': 'United States of America',\n",
    "    'registrationDate': date(2023, 6, 1),\n",
    "    'licensePlate': 'AAA-BBB'\n",
    "}\n",
    "\n",
    "expected_json_by_alias = '{\"id\":\"c4e60f4a-3c7f-4da5-9b3f-07aee50b23e7\",\"manufacturer\":\"BMW\",\"seriesName\":\"M4 Competition xDrive\",\"type\":\"Convertible\",\"isElectric\":false,\"manufacturedDate\":\"2023/01/01\",\"baseMSRPUSD\":93300.0,\"topFeatures\":[\"6 cylinders\",\"all-wheel drive\",\"convertible\"],\"vin\":\"1234567890\",\"numberOfDoors\":2,\"registrationCountry\":\"United States of America\",\"registrationDate\":\"2023/06/01\",\"licensePlate\":\"AAA-BBB\"}'"
   ]
  },
  {
   "cell_type": "code",
   "execution_count": 44,
   "id": "166994fc",
   "metadata": {},
   "outputs": [],
   "source": [
    "valid_country_names = sorted(countries.keys())\n",
    "def lookup_country(name: str) -> tuple[str, str]:\n",
    "    name = name.strip().casefold()\n",
    "    \n",
    "    try:\n",
    "        return countries[name]\n",
    "    except KeyError:\n",
    "        raise ValueError(\n",
    "            \"Unknown country name. \"\n",
    "            f\"Country name must be one of: {','.join(valid_country_names)}\"\n",
    "        )\n",
    "    \n",
    "from pydantic import AfterValidator\n",
    "\n",
    "Country = Annotated[str, AfterValidator(lambda name: lookup_country(name)[0])]"
   ]
  },
  {
   "cell_type": "code",
   "execution_count": 45,
   "id": "0cdee29f",
   "metadata": {},
   "outputs": [],
   "source": [
    "from pydantic import field_validator, ValidationInfo\n",
    "\n",
    "\n",
    "class Automobile(BaseModel):\n",
    "    model_config = ConfigDict(\n",
    "        extra=\"forbid\",\n",
    "        str_strip_whitespace=True,\n",
    "        validate_default=True,\n",
    "        validate_assignment=True,\n",
    "        alias_generator=to_camel,\n",
    "    )\n",
    "\n",
    "    id_: UUID4 | None = Field(alias=\"id\", default_factory=uuid4) \n",
    "    manufacturer: BoundedString\n",
    "    series_name: BoundedString\n",
    "    type_: AutomobileType = Field(alias=\"type\")\n",
    "    is_electric: bool = False\n",
    "    manufactured_date: date = Field(validation_alias=\"completionDate\", ge=date(1980, 1, 1))\n",
    "    base_msrp_usd: float = Field(\n",
    "        validation_alias=\"msrpUSD\", \n",
    "        serialization_alias=\"baseMSRPUSD\"\n",
    "    )\n",
    "    top_features: BoundedList[BoundedString] | None = None\n",
    "    vin: BoundedString\n",
    "    number_of_doors: int = Field(\n",
    "        default=4, \n",
    "        validation_alias=\"doors\",\n",
    "        ge=2,\n",
    "        le=4,\n",
    "        multiple_of=2,\n",
    "    )\n",
    "    registration_country: Country | None = None\n",
    "    registration_date: date | None = None\n",
    "    license_plate: BoundedString | None = None\n",
    "\n",
    "    @field_serializer(\"manufactured_date\", \"registration_date\", when_used=\"json-unless-none\")\n",
    "    def serialize_date(self, value: date) -> str:\n",
    "        return value.strftime(\"%Y/%m/%d\")\n",
    "        \n",
    "    @field_validator(\"registration_date\")\n",
    "    @classmethod\n",
    "    def validate_registration_date(cls, value:date, info: ValidationInfo):\n",
    "        data = info.data\n",
    "        if \"manufactured_date\" in data and data[\"manufactured_date\"] > value:\n",
    "            raise ValueError(\"Automobile cannot be registered prior to manufacture date.\")\n",
    "        return value\n",
    "            "
   ]
  },
  {
   "cell_type": "markdown",
   "id": "7d4ea9c3",
   "metadata": {},
   "source": [
    "Checks"
   ]
  },
  {
   "cell_type": "code",
   "execution_count": 46,
   "id": "2cba585d",
   "metadata": {},
   "outputs": [],
   "source": [
    "car = Automobile.model_validate(data)\n",
    "assert car.model_dump(by_alias=True) == expected_by_alias\n",
    "assert car.model_dump_json(by_alias=True) == expected_json_by_alias"
   ]
  },
  {
   "cell_type": "code",
   "execution_count": 47,
   "id": "3622c966",
   "metadata": {},
   "outputs": [],
   "source": [
    "bad_data = {\n",
    "    \"id\": \"c4e60f4a-3c7f-4da5-9b3f-07aee50b23e7\",\n",
    "    \"manufacturer\": \"BMW\",\n",
    "    \"seriesName\": \"M4 Competition xDrive\",\n",
    "    \"type\": \"Convertible\",\n",
    "    \"isElectric\": False,\n",
    "    \"completionDate\": \"2023-01-01\",\n",
    "    \"msrpUSD\": 93_300,\n",
    "    \"topFeatures\": [\"6 cylinders\", \"all-wheel drive\", \"convertible\"],\n",
    "    \"vin\": \"1234567890\",\n",
    "    \"doors\": 2,\n",
    "    \"registrationCountry\": \"Lunar Colony\",\n",
    "    \"registrationDate\": \"2022-06-01\",\n",
    "    \"licensePlate\": \"AAA-BBB\"\n",
    "}"
   ]
  },
  {
   "cell_type": "code",
   "execution_count": 48,
   "id": "f0d1a54c",
   "metadata": {},
   "outputs": [
    {
     "name": "stdout",
     "output_type": "stream",
     "text": [
      "2 validation errors for Automobile\n",
      "registrationCountry\n",
      "  Value error, Unknown country name. Country name must be one of: australia,britain,canada,china,france,germany,great britain,india,mexico,norway,pakistan,san marino,sanmarino,spain,sweden,uk,united kingdom,united states,us,usa [type=value_error, input_value='Lunar Colony', input_type=str]\n",
      "    For further information visit https://errors.pydantic.dev/2.10/v/value_error\n",
      "registrationDate\n",
      "  Value error, Automobile cannot be registered prior to manufacture date. [type=value_error, input_value='2022-06-01', input_type=str]\n",
      "    For further information visit https://errors.pydantic.dev/2.10/v/value_error\n"
     ]
    }
   ],
   "source": [
    "try:\n",
    "    Automobile.model_validate(bad_data)\n",
    "except ValidationError as ex:\n",
    "    print(ex)"
   ]
  },
  {
   "cell_type": "markdown",
   "id": "789be6b5",
   "metadata": {},
   "source": [
    "we want to create a computed field that will provide the 3 character country code for the registration country.\n",
    "\n",
    "Again, this is something we could look up in a database, but we'll use a variant of that dictionary of countries we defined earlier to mock this.\n",
    "\n",
    "Implement a computed field named `registration_country_code`. Make it cached - if working with a real DB this would save us a lot of network traffic and waiting for db response. The serialization name of this field should be `registrationCountryCode`.\n",
    "\n",
    "You can use the code below to generate a lookup table for country codes based on the country name:"
   ]
  },
  {
   "cell_type": "code",
   "execution_count": 49,
   "id": "da7aadec",
   "metadata": {},
   "outputs": [
    {
     "data": {
      "text/plain": [
       "{'Australia': 'AUS',\n",
       " 'Canada': 'CAN',\n",
       " 'China': 'CHN',\n",
       " 'France': 'FRA',\n",
       " 'Germany': 'DEU',\n",
       " 'India': 'IND',\n",
       " 'Mexico': 'MEX',\n",
       " 'Norway': 'NOR',\n",
       " 'Pakistan': 'PAK',\n",
       " 'San Marino': 'SMR',\n",
       " 'Spain': 'ESP',\n",
       " 'Sweden': 'SWE',\n",
       " 'United Kingdom': 'GBR',\n",
       " 'United States of America': 'USA'}"
      ]
     },
     "execution_count": 49,
     "metadata": {},
     "output_type": "execute_result"
    }
   ],
   "source": [
    "country_code_lookup = {\n",
    "    name: code\n",
    "    for name, code in countries.values()\n",
    "}\n",
    "country_code_lookup"
   ]
  },
  {
   "cell_type": "markdown",
   "id": "8932d8ae",
   "metadata": {},
   "source": [
    "Use the lookup table `country_code_lookup` to define your calculated field."
   ]
  },
  {
   "cell_type": "markdown",
   "id": "237d36d6",
   "metadata": {},
   "source": [
    "Also, now would be a good time to clean up our model's representation string. Remove all fields, except for `id_`, `manufacturer`, `series_name` and `type_` from the representatino string."
   ]
  },
  {
   "cell_type": "markdown",
   "id": "6969e2ea",
   "metadata": {},
   "source": [
    "Here is some sample data to help you test your model:"
   ]
  },
  {
   "cell_type": "code",
   "execution_count": 50,
   "id": "7ab3c81c",
   "metadata": {},
   "outputs": [],
   "source": [
    "from uuid import UUID\n",
    "\n",
    "data = {\n",
    "    \"id\": \"c4e60f4a-3c7f-4da5-9b3f-07aee50b23e7\",\n",
    "    \"manufacturer\": \"BMW\",\n",
    "    \"seriesName\": \"M4 Competition xDrive\",\n",
    "    \"type\": \"Convertible\",\n",
    "    \"isElectric\": False,\n",
    "    \"completionDate\": \"2023-01-01\",\n",
    "    \"msrpUSD\": 93_300,\n",
    "    \"topFeatures\": [\"6 cylinders\", \"all-wheel drive\", \"convertible\"],\n",
    "    \"vin\": \"1234567890\",\n",
    "    \"doors\": 2,\n",
    "    \"registrationCountry\": \"us\",\n",
    "    \"registrationDate\": \"2023-06-01\",\n",
    "    \"licensePlate\": \"AAA-BBB\"\n",
    "}\n",
    "\n",
    "expected_serialized_by_alias = {\n",
    "    'id': UUID('c4e60f4a-3c7f-4da5-9b3f-07aee50b23e7'),\n",
    "    'manufacturer': 'BMW',\n",
    "    'seriesName': 'M4 Competition xDrive',\n",
    "    'type': AutomobileType.convertible,\n",
    "    'isElectric': False,\n",
    "    'manufacturedDate': date(2023, 1, 1),\n",
    "    'baseMSRPUSD': 93300.0,\n",
    "    'topFeatures': ['6 cylinders', 'all-wheel drive', 'convertible'],\n",
    "    'vin': '1234567890',\n",
    "    'numberOfDoors': 2,\n",
    "    'registrationCountry': 'United States of America',\n",
    "    'registrationCountryCode': 'USA',\n",
    "    'registrationDate': date(2023, 6, 1),\n",
    "    'licensePlate': 'AAA-BBB',\n",
    "}"
   ]
  },
  {
   "cell_type": "code",
   "execution_count": 51,
   "id": "255316a7",
   "metadata": {},
   "outputs": [],
   "source": [
    "from functools import cached_property\n",
    "from pydantic import computed_field\n",
    "class Automobile(BaseModel):\n",
    "    model_config = ConfigDict(\n",
    "        extra=\"forbid\",\n",
    "        str_strip_whitespace=True,\n",
    "        validate_default=True,\n",
    "        validate_assignment=True,\n",
    "        alias_generator=to_camel,\n",
    "    )\n",
    "\n",
    "    id_: UUID4 | None = Field(alias=\"id\", default_factory=uuid4) \n",
    "    manufacturer: BoundedString\n",
    "    series_name: BoundedString\n",
    "    type_: AutomobileType = Field(alias=\"type\")\n",
    "    is_electric: bool = Field(default=False, repr=False)\n",
    "    manufactured_date: date = Field(\n",
    "        validation_alias=\"completionDate\", \n",
    "        ge=date(1980, 1, 1), \n",
    "        repr=False\n",
    "    )\n",
    "    base_msrp_usd: float = Field(\n",
    "        validation_alias=\"msrpUSD\", \n",
    "        serialization_alias=\"baseMSRPUSD\",\n",
    "        repr=False,\n",
    "    )\n",
    "    top_features: BoundedList[BoundedString] | None = Field(default=None, repr=False)\n",
    "    vin: BoundedString = Field(repr=False)\n",
    "    number_of_doors: int = Field(\n",
    "        default=4, \n",
    "        validation_alias=\"doors\",\n",
    "        ge=2,\n",
    "        le=4,\n",
    "        multiple_of=2,\n",
    "        repr=False,\n",
    "    )\n",
    "    registration_country: Country | None = Field(default=None, repr=False)\n",
    "    \n",
    "    @computed_field(repr=False)\n",
    "    @cached_property\n",
    "    def registration_country_code(self) -> str:\n",
    "        return country_code_lookup[self.registration_country] \n",
    "    \n",
    "    registration_date: date | None = Field(default=None, repr=False)\n",
    "    license_plate: BoundedString | None = Field(default=None, repr=False)\n",
    "\n",
    "    \n",
    "    @field_serializer(\"manufactured_date\", \"registration_date\", when_used=\"json-unless-none\")\n",
    "    def serialize_date(self, value: date) -> str:\n",
    "        return value.strftime(\"%Y/%m/%d\")\n",
    "        \n",
    "    @field_validator(\"registration_date\")\n",
    "    @classmethod\n",
    "    def validate_registration_date(cls, value:date, values: ValidationInfo):\n",
    "        data = values.data\n",
    "        if \"manufactured_date\" in data and data[\"manufactured_date\"] > value:\n",
    "            raise ValueError(\"Automobile cannot be registered prior to manufacture date.\")\n",
    "        return value"
   ]
  },
  {
   "cell_type": "code",
   "execution_count": 52,
   "id": "f86cb25c",
   "metadata": {},
   "outputs": [],
   "source": [
    "car = Automobile.model_validate(data)\n",
    "assert car.model_dump(by_alias=True) == expected_serialized_by_alias"
   ]
  }
 ],
 "metadata": {
  "kernelspec": {
   "display_name": ".venv",
   "language": "python",
   "name": "python3"
  },
  "language_info": {
   "codemirror_mode": {
    "name": "ipython",
    "version": 3
   },
   "file_extension": ".py",
   "mimetype": "text/x-python",
   "name": "python",
   "nbconvert_exporter": "python",
   "pygments_lexer": "ipython3",
   "version": "3.12.4"
  }
 },
 "nbformat": 4,
 "nbformat_minor": 5
}
