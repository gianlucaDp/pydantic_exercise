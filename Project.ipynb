{
 "cells": [
  {
   "cell_type": "code",
   "execution_count": 1,
   "id": "903f542e",
   "metadata": {},
   "outputs": [
    {
     "name": "stdout",
     "output_type": "stream",
     "text": [
      "Overwriting requirements.txt\n"
     ]
    }
   ],
   "source": [
    "%%writefile requirements.txt\n",
    "\n",
    "pydantic"
   ]
  },
  {
   "cell_type": "code",
   "execution_count": 2,
   "id": "ec25ce08",
   "metadata": {},
   "outputs": [
    {
     "name": "stdout",
     "output_type": "stream",
     "text": [
      "Requirement already satisfied: pydantic in ./.venv/lib/python3.12/site-packages (from -r requirements.txt (line 2)) (2.10.6)\n",
      "Requirement already satisfied: annotated-types>=0.6.0 in ./.venv/lib/python3.12/site-packages (from pydantic->-r requirements.txt (line 2)) (0.7.0)\n",
      "Requirement already satisfied: pydantic-core==2.27.2 in ./.venv/lib/python3.12/site-packages (from pydantic->-r requirements.txt (line 2)) (2.27.2)\n",
      "Requirement already satisfied: typing-extensions>=4.12.2 in ./.venv/lib/python3.12/site-packages (from pydantic->-r requirements.txt (line 2)) (4.12.2)\n"
     ]
    }
   ],
   "source": [
    "!pip install -r requirements.txt"
   ]
  },
  {
   "cell_type": "markdown",
   "id": "2b33413a-7989-49bd-80b8-cefada969138",
   "metadata": {},
   "source": [
    "# Pydantic Project"
   ]
  },
  {
   "cell_type": "markdown",
   "id": "5fd08094-48bf-49f4-9891-c2bad75496f6",
   "metadata": {},
   "source": [
    "We are going to build a model for an automobile. \n",
    "\n",
    "Throughout the course, at the end of each section you will add on to this model, refactor some parts of it, or create related models that will then be used in conjunction with this automobile model when we get to model composition."
   ]
  },
  {
   "cell_type": "markdown",
   "id": "a1763798-6014-4917-8ed7-e44947703e70",
   "metadata": {},
   "source": [
    "To start, you should create an `Automobile` model that contains the following fields:\n",
    "- `manufacturer`, string, required, not nullable\n",
    "- `series_name`, string, required, not nullable\n",
    "- `type_`, string, required, not nullable\n",
    "- `is_electric`, boolean, defaults to `False`, not nullable\n",
    "- `manufactured_date`, date, required (hint use `date` from `datetime` module as your field type hint), not nullable\n",
    "- `base_msrp_usd`, float, required, not nullable\n",
    "- `vin`, string, required, not nullable\n",
    "- `number_of_doors`, integer, defaults to `4`, not nullable\n",
    "- `registration_country`, string, defaults to `None`\n",
    "- `license_plate`, string, defaults to `None`"
   ]
  },
  {
   "cell_type": "markdown",
   "id": "eed516d1-032d-4cfe-add2-2270ee0f88ee",
   "metadata": {},
   "source": [
    "Once you have created your model, you should test deserializing and serializing your model and make sure everything works."
   ]
  },
  {
   "cell_type": "code",
   "execution_count": 3,
   "id": "197b2a6f",
   "metadata": {},
   "outputs": [],
   "source": [
    "from pydantic import BaseModel\n",
    "from datetime import date\n",
    "\n",
    "class Automobile(BaseModel):\n",
    "    manufacturer: str\n",
    "    series_name: str\n",
    "    type_: str\n",
    "    is_electric : bool = False\n",
    "    manufactured_date: date\n",
    "    base_msrp_usd : float\n",
    "    vin : str\n",
    "    number_of_doors : int = 4\n",
    "    registration_country : str | None = None\n",
    "    license_plate : str | None = None\n",
    "    "
   ]
  },
  {
   "cell_type": "markdown",
   "id": "a577980e",
   "metadata": {},
   "source": [
    "You can test your model by deserializing the following input data, and comparing the serialization of each of those models to the provided Python dictionaries.\n",
    "\n",
    "In other words, test them by doing something like this for both cases:\n",
    "- create model by deserializing the data\n",
    "- check the model's serialization to `dict` is equal to the provided expected dictionary"
   ]
  },
  {
   "cell_type": "code",
   "execution_count": 4,
   "id": "57f64f30-0f66-4dbd-b099-884d6a06331a",
   "metadata": {},
   "outputs": [],
   "source": [
    "# Python dictionary\n",
    "\n",
    "data = {\n",
    "    \"manufacturer\": \"BMW\",\n",
    "    \"series_name\": \"M4\",\n",
    "    \"type_\": \"Convertible\",\n",
    "    \"is_electric\": False,\n",
    "    \"manufactured_date\": \"2023-01-01\",\n",
    "    \"base_msrp_usd\": 93_300,\n",
    "    \"vin\": \"1234567890\",\n",
    "    \"number_of_doors\": 2,\n",
    "    \"registration_country\": \"France\",\n",
    "    \"license_plate\": \"AAA-BBB\",\n",
    "}\n",
    "\n",
    "data_expected_serialization = {\n",
    "    'manufacturer': 'BMW',\n",
    "    'series_name': 'M4',\n",
    "    'type_': 'Convertible',\n",
    "    'is_electric': False,\n",
    "    'manufactured_date': date(2023,1,1),\n",
    "    'base_msrp_usd': 93_300,\n",
    "    'vin': '1234567890',\n",
    "    'number_of_doors': 2,\n",
    "    'registration_country': 'France',\n",
    "    'license_plate': 'AAA-BBB',\n",
    "}"
   ]
  },
  {
   "cell_type": "code",
   "execution_count": 5,
   "id": "56861474-d1b1-4bfb-937a-2eaf353022d8",
   "metadata": {},
   "outputs": [],
   "source": [
    "# JSON\n",
    "data_json = '''\n",
    "{\n",
    "    \"manufacturer\": \"BMW\",\n",
    "    \"series_name\": \"M4\",\n",
    "    \"type_\": \"Convertible\",\n",
    "    \"manufactured_date\": \"2023-01-01\",\n",
    "    \"base_msrp_usd\": 93300,\n",
    "    \"vin\": \"1234567890\"\n",
    "}\n",
    "'''\n",
    "\n",
    "data_json_expected_serialization = {\n",
    "    'manufacturer': 'BMW',\n",
    "    'series_name': 'M4',\n",
    "    'type_': 'Convertible',\n",
    "    'is_electric': False,\n",
    "    'manufactured_date': date(2023, 1, 1),\n",
    "    'base_msrp_usd': 93_300,\n",
    "    'vin': '1234567890',\n",
    "    'number_of_doors': 4,\n",
    "    'registration_country': None,\n",
    "    'license_plate': None,\n",
    "}"
   ]
  },
  {
   "cell_type": "code",
   "execution_count": 6,
   "id": "a1990eee",
   "metadata": {},
   "outputs": [],
   "source": [
    "auto1 = Automobile.model_validate(data)"
   ]
  },
  {
   "cell_type": "code",
   "execution_count": 7,
   "id": "402c1ab7",
   "metadata": {},
   "outputs": [],
   "source": [
    "assert auto1.model_dump() ==  data_expected_serialization"
   ]
  },
  {
   "cell_type": "code",
   "execution_count": 8,
   "id": "5afce25d",
   "metadata": {},
   "outputs": [],
   "source": [
    "auto2 = Automobile.model_validate_json(data_json)"
   ]
  },
  {
   "cell_type": "code",
   "execution_count": 9,
   "id": "e88e4ab0",
   "metadata": {},
   "outputs": [],
   "source": [
    "assert auto2.model_dump() ==  data_json_expected_serialization"
   ]
  },
  {
   "cell_type": "markdown",
   "id": "44be644a",
   "metadata": {},
   "source": [
    "Modify your `Automobile` model to implement the following:\n",
    "- set model to forbid extra fields\n",
    "- set model to strip whitespace from all string fields\n",
    "- set model to validate defaults and assignments\n",
    "- use the enum provided below for the `type_` field"
   ]
  },
  {
   "cell_type": "code",
   "execution_count": 10,
   "id": "2058d3e6",
   "metadata": {},
   "outputs": [],
   "source": [
    "from enum import Enum\n",
    "\n",
    "class AutomobileType(Enum):\n",
    "    sedan = \"Sedan\"\n",
    "    coupe = \"Coupe\"\n",
    "    convertible = \"Convertible\"\n",
    "    suv = \"SUV\"\n",
    "    truck = \"Truck\""
   ]
  },
  {
   "cell_type": "markdown",
   "id": "dfe61b70",
   "metadata": {},
   "source": [
    "You can test your model by serializing and deserializing this data:"
   ]
  },
  {
   "cell_type": "code",
   "execution_count": 11,
   "id": "5129d040",
   "metadata": {},
   "outputs": [],
   "source": [
    "data_json = '''\n",
    "{\n",
    "    \"manufacturer\": \" BMW \",\n",
    "    \"series_name\": \" M4 \",\n",
    "    \"type_\": \"Convertible\",\n",
    "    \"manufactured_date\": \"2023-01-01\",\n",
    "    \"base_msrp_usd\": 93300,\n",
    "    \"vin\": \" 1234567890 \"\n",
    "}\n",
    "'''\n",
    "\n",
    "data_json_expected_serialization = {\n",
    "    'manufacturer': 'BMW',\n",
    "    'series_name': 'M4',\n",
    "    'type_': AutomobileType.convertible,\n",
    "    'is_electric': False,\n",
    "    'manufactured_date': date(2023, 1, 1),\n",
    "    'base_msrp_usd': 93300.0,\n",
    "    'vin': '1234567890',\n",
    "    'number_of_doors': 4,\n",
    "    'registration_country': None,\n",
    "    'license_plate': None\n",
    "}"
   ]
  },
  {
   "cell_type": "code",
   "execution_count": 12,
   "id": "a46b7cc6",
   "metadata": {},
   "outputs": [],
   "source": [
    "from pydantic import ConfigDict\n",
    "\n",
    "class Automobile(BaseModel):\n",
    "    model_config = ConfigDict(extra='forbid',\n",
    "                              str_strip_whitespace=True,\n",
    "                              validate_default=True,\n",
    "                              validate_assignment=True)\n",
    "    manufacturer: str\n",
    "    series_name: str\n",
    "    type_: AutomobileType\n",
    "    is_electric : bool = False\n",
    "    manufactured_date: date\n",
    "    base_msrp_usd : float\n",
    "    vin : str\n",
    "    number_of_doors : int = 4\n",
    "    registration_country : str | None = None\n",
    "    license_plate : str | None = None"
   ]
  },
  {
   "cell_type": "code",
   "execution_count": 13,
   "id": "6b774048",
   "metadata": {},
   "outputs": [],
   "source": [
    "m = Automobile.model_validate_json(data_json)\n",
    "assert m.model_dump() == data_json_expected_serialization "
   ]
  },
  {
   "cell_type": "code",
   "execution_count": 14,
   "id": "317e5f8b",
   "metadata": {},
   "outputs": [
    {
     "name": "stdout",
     "output_type": "stream",
     "text": [
      "1 validation error for Automobile\n",
      "extra_field\n",
      "  Extra inputs are not permitted [type=extra_forbidden, input_value='extra', input_type=str]\n",
      "    For further information visit https://errors.pydantic.dev/2.10/v/extra_forbidden\n"
     ]
    }
   ],
   "source": [
    "from pydantic import ValidationError\n",
    "data_invalid = data.copy()\n",
    "data_invalid['extra_field'] = 'extra'\n",
    "try:\n",
    "    Automobile.model_validate(data_invalid)\n",
    "except ValidationError as e:\n",
    "    print(e)\n",
    "    assert \"Extra inputs are not permitted\" in str(e)"
   ]
  }
 ],
 "metadata": {
  "kernelspec": {
   "display_name": ".venv",
   "language": "python",
   "name": "python3"
  },
  "language_info": {
   "codemirror_mode": {
    "name": "ipython",
    "version": 3
   },
   "file_extension": ".py",
   "mimetype": "text/x-python",
   "name": "python",
   "nbconvert_exporter": "python",
   "pygments_lexer": "ipython3",
   "version": "3.12.4"
  }
 },
 "nbformat": 4,
 "nbformat_minor": 5
}
