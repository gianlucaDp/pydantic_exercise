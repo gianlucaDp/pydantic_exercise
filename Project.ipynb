{
 "cells": [
  {
   "cell_type": "code",
   "execution_count": null,
   "id": "903f542e",
   "metadata": {},
   "outputs": [],
   "source": [
    "%%writefile requirements.txt\n",
    "\n",
    "pydantic"
   ]
  },
  {
   "cell_type": "code",
   "execution_count": null,
   "id": "ec25ce08",
   "metadata": {},
   "outputs": [],
   "source": [
    "!pip install -r requirements.txt"
   ]
  },
  {
   "cell_type": "markdown",
   "id": "2b33413a-7989-49bd-80b8-cefada969138",
   "metadata": {},
   "source": [
    "# Pydantic Project"
   ]
  },
  {
   "cell_type": "markdown",
   "id": "5fd08094-48bf-49f4-9891-c2bad75496f6",
   "metadata": {},
   "source": [
    "We are going to build a model for an automobile. \n",
    "\n",
    "Throughout the course, at the end of each section you will add on to this model, refactor some parts of it, or create related models that will then be used in conjunction with this automobile model when we get to model composition."
   ]
  },
  {
   "cell_type": "markdown",
   "id": "a1763798-6014-4917-8ed7-e44947703e70",
   "metadata": {},
   "source": [
    "To start, you should create an `Automobile` model that contains the following fields:\n",
    "- `manufacturer`, string, required, not nullable\n",
    "- `series_name`, string, required, not nullable\n",
    "- `type_`, string, required, not nullable\n",
    "- `is_electric`, boolean, defaults to `False`, not nullable\n",
    "- `manufactured_date`, date, required (hint use `date` from `datetime` module as your field type hint), not nullable\n",
    "- `base_msrp_usd`, float, required, not nullable\n",
    "- `vin`, string, required, not nullable\n",
    "- `number_of_doors`, integer, defaults to `4`, not nullable\n",
    "- `registration_country`, string, defaults to `None`\n",
    "- `license_plate`, string, defaults to `None`"
   ]
  },
  {
   "cell_type": "markdown",
   "id": "eed516d1-032d-4cfe-add2-2270ee0f88ee",
   "metadata": {},
   "source": [
    "Once you have created your model, you should test deserializing and serializing your model and make sure everything works."
   ]
  },
  {
   "cell_type": "code",
   "execution_count": 1,
   "id": "197b2a6f",
   "metadata": {},
   "outputs": [],
   "source": [
    "from pydantic import BaseModel\n",
    "from datetime import date\n",
    "\n",
    "class Automobile(BaseModel):\n",
    "    manufacturer: str\n",
    "    series_name: str\n",
    "    type_: str\n",
    "    is_electric : bool = False\n",
    "    manufactured_date: date\n",
    "    base_msrp_usd : float\n",
    "    vin : str\n",
    "    number_of_doors : int = 4\n",
    "    registration_country : str | None = None\n",
    "    license_plate : str | None = None\n",
    "    "
   ]
  },
  {
   "cell_type": "markdown",
   "id": "465d3f07-77a8-4474-bb45-a5580647acc8",
   "metadata": {},
   "source": []
  },
  {
   "cell_type": "markdown",
   "id": "a577980e",
   "metadata": {},
   "source": [
    "You can test your model by deserializing the following input data, and comparing the serialization of each of those models to the provided Python dictionaries.\n",
    "\n",
    "In other words, test them by doing something like this for both cases:\n",
    "- create model by deserializing the data\n",
    "- check the model's serialization to `dict` is equal to the provided expected dictionary"
   ]
  },
  {
   "cell_type": "code",
   "execution_count": 2,
   "id": "57f64f30-0f66-4dbd-b099-884d6a06331a",
   "metadata": {},
   "outputs": [],
   "source": [
    "# Python dictionary\n",
    "\n",
    "data = {\n",
    "    \"manufacturer\": \"BMW\",\n",
    "    \"series_name\": \"M4\",\n",
    "    \"type_\": \"Convertible\",\n",
    "    \"is_electric\": False,\n",
    "    \"manufactured_date\": \"2023-01-01\",\n",
    "    \"base_msrp_usd\": 93_300,\n",
    "    \"vin\": \"1234567890\",\n",
    "    \"number_of_doors\": 2,\n",
    "    \"registration_country\": \"France\",\n",
    "    \"license_plate\": \"AAA-BBB\",\n",
    "}\n",
    "\n",
    "data_expected_serialization = {\n",
    "    'manufacturer': 'BMW',\n",
    "    'series_name': 'M4',\n",
    "    'type_': 'Convertible',\n",
    "    'is_electric': False,\n",
    "    'manufactured_date': date(2023,1,1),\n",
    "    'base_msrp_usd': 93_300,\n",
    "    'vin': '1234567890',\n",
    "    'number_of_doors': 2,\n",
    "    'registration_country': 'France',\n",
    "    'license_plate': 'AAA-BBB',\n",
    "}"
   ]
  },
  {
   "cell_type": "code",
   "execution_count": 3,
   "id": "56861474-d1b1-4bfb-937a-2eaf353022d8",
   "metadata": {},
   "outputs": [],
   "source": [
    "# JSON\n",
    "data_json = '''\n",
    "{\n",
    "    \"manufacturer\": \"BMW\",\n",
    "    \"series_name\": \"M4\",\n",
    "    \"type_\": \"Convertible\",\n",
    "    \"manufactured_date\": \"2023-01-01\",\n",
    "    \"base_msrp_usd\": 93300,\n",
    "    \"vin\": \"1234567890\"\n",
    "}\n",
    "'''\n",
    "\n",
    "data_json_expected_serialization = {\n",
    "    'manufacturer': 'BMW',\n",
    "    'series_name': 'M4',\n",
    "    'type_': 'Convertible',\n",
    "    'is_electric': False,\n",
    "    'manufactured_date': date(2023, 1, 1),\n",
    "    'base_msrp_usd': 93_300,\n",
    "    'vin': '1234567890',\n",
    "    'number_of_doors': 4,\n",
    "    'registration_country': None,\n",
    "    'license_plate': None,\n",
    "}"
   ]
  },
  {
   "cell_type": "code",
   "execution_count": 4,
   "id": "a1990eee",
   "metadata": {},
   "outputs": [],
   "source": [
    "auto1 = Automobile.model_validate(data)"
   ]
  },
  {
   "cell_type": "code",
   "execution_count": 5,
   "id": "402c1ab7",
   "metadata": {},
   "outputs": [],
   "source": [
    "assert auto1.model_dump() ==  data_expected_serialization"
   ]
  },
  {
   "cell_type": "code",
   "execution_count": 6,
   "id": "5afce25d",
   "metadata": {},
   "outputs": [],
   "source": [
    "auto2 = Automobile.model_validate_json(data_json)"
   ]
  },
  {
   "cell_type": "code",
   "execution_count": 7,
   "id": "e88e4ab0",
   "metadata": {},
   "outputs": [],
   "source": [
    "assert auto2.model_dump() ==  data_json_expected_serialization"
   ]
  }
 ],
 "metadata": {
  "kernelspec": {
   "display_name": ".venv",
   "language": "python",
   "name": "python3"
  },
  "language_info": {
   "codemirror_mode": {
    "name": "ipython",
    "version": 3
   },
   "file_extension": ".py",
   "mimetype": "text/x-python",
   "name": "python",
   "nbconvert_exporter": "python",
   "pygments_lexer": "ipython3",
   "version": "3.12.4"
  }
 },
 "nbformat": 4,
 "nbformat_minor": 5
}
