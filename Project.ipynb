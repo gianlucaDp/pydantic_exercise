{
 "cells": [
  {
   "cell_type": "code",
   "execution_count": 1,
   "id": "903f542e",
   "metadata": {},
   "outputs": [
    {
     "name": "stdout",
     "output_type": "stream",
     "text": [
      "Overwriting requirements.txt\n"
     ]
    }
   ],
   "source": [
    "%%writefile requirements.txt\n",
    "\n",
    "pydantic"
   ]
  },
  {
   "cell_type": "code",
   "execution_count": 2,
   "id": "ec25ce08",
   "metadata": {},
   "outputs": [
    {
     "name": "stdout",
     "output_type": "stream",
     "text": [
      "Requirement already satisfied: pydantic in ./.venv/lib/python3.12/site-packages (from -r requirements.txt (line 2)) (2.10.6)\n",
      "Requirement already satisfied: annotated-types>=0.6.0 in ./.venv/lib/python3.12/site-packages (from pydantic->-r requirements.txt (line 2)) (0.7.0)\n",
      "Requirement already satisfied: pydantic-core==2.27.2 in ./.venv/lib/python3.12/site-packages (from pydantic->-r requirements.txt (line 2)) (2.27.2)\n",
      "Requirement already satisfied: typing-extensions>=4.12.2 in ./.venv/lib/python3.12/site-packages (from pydantic->-r requirements.txt (line 2)) (4.12.2)\n",
      "\n",
      "\u001b[1m[\u001b[0m\u001b[34;49mnotice\u001b[0m\u001b[1;39;49m]\u001b[0m\u001b[39;49m A new release of pip is available: \u001b[0m\u001b[31;49m25.0\u001b[0m\u001b[39;49m -> \u001b[0m\u001b[32;49m25.0.1\u001b[0m\n",
      "\u001b[1m[\u001b[0m\u001b[34;49mnotice\u001b[0m\u001b[1;39;49m]\u001b[0m\u001b[39;49m To update, run: \u001b[0m\u001b[32;49mpip install --upgrade pip\u001b[0m\n"
     ]
    }
   ],
   "source": [
    "!pip install -r requirements.txt"
   ]
  },
  {
   "cell_type": "markdown",
   "id": "2b33413a-7989-49bd-80b8-cefada969138",
   "metadata": {},
   "source": [
    "# Pydantic Project"
   ]
  },
  {
   "cell_type": "markdown",
   "id": "5fd08094-48bf-49f4-9891-c2bad75496f6",
   "metadata": {},
   "source": [
    "We are going to build a model for an automobile. \n",
    "\n",
    "Throughout the course, at the end of each section you will add on to this model, refactor some parts of it, or create related models that will then be used in conjunction with this automobile model when we get to model composition."
   ]
  },
  {
   "cell_type": "markdown",
   "id": "a1763798-6014-4917-8ed7-e44947703e70",
   "metadata": {},
   "source": [
    "To start, you should create an `Automobile` model that contains the following fields:\n",
    "- `manufacturer`, string, required, not nullable\n",
    "- `series_name`, string, required, not nullable\n",
    "- `type_`, string, required, not nullable\n",
    "- `is_electric`, boolean, defaults to `False`, not nullable\n",
    "- `manufactured_date`, date, required (hint use `date` from `datetime` module as your field type hint), not nullable\n",
    "- `base_msrp_usd`, float, required, not nullable\n",
    "- `vin`, string, required, not nullable\n",
    "- `number_of_doors`, integer, defaults to `4`, not nullable\n",
    "- `registration_country`, string, defaults to `None`\n",
    "- `license_plate`, string, defaults to `None`"
   ]
  },
  {
   "cell_type": "markdown",
   "id": "eed516d1-032d-4cfe-add2-2270ee0f88ee",
   "metadata": {},
   "source": [
    "Once you have created your model, you should test deserializing and serializing your model and make sure everything works."
   ]
  },
  {
   "cell_type": "code",
   "execution_count": 3,
   "id": "197b2a6f",
   "metadata": {},
   "outputs": [],
   "source": [
    "from pydantic import BaseModel\n",
    "from datetime import date\n",
    "\n",
    "class Automobile(BaseModel):\n",
    "    manufacturer: str\n",
    "    series_name: str\n",
    "    type_: str\n",
    "    is_electric : bool = False\n",
    "    manufactured_date: date\n",
    "    base_msrp_usd : float\n",
    "    vin : str\n",
    "    number_of_doors : int = 4\n",
    "    registration_country : str | None = None\n",
    "    license_plate : str | None = None\n",
    "    "
   ]
  },
  {
   "cell_type": "markdown",
   "id": "a577980e",
   "metadata": {},
   "source": [
    "You can test your model by deserializing the following input data, and comparing the serialization of each of those models to the provided Python dictionaries.\n",
    "\n",
    "In other words, test them by doing something like this for both cases:\n",
    "- create model by deserializing the data\n",
    "- check the model's serialization to `dict` is equal to the provided expected dictionary"
   ]
  },
  {
   "cell_type": "code",
   "execution_count": 4,
   "id": "57f64f30-0f66-4dbd-b099-884d6a06331a",
   "metadata": {},
   "outputs": [],
   "source": [
    "# Python dictionary\n",
    "\n",
    "data = {\n",
    "    \"manufacturer\": \"BMW\",\n",
    "    \"series_name\": \"M4\",\n",
    "    \"type_\": \"Convertible\",\n",
    "    \"is_electric\": False,\n",
    "    \"manufactured_date\": \"2023-01-01\",\n",
    "    \"base_msrp_usd\": 93_300,\n",
    "    \"vin\": \"1234567890\",\n",
    "    \"number_of_doors\": 2,\n",
    "    \"registration_country\": \"France\",\n",
    "    \"license_plate\": \"AAA-BBB\",\n",
    "}\n",
    "\n",
    "data_expected_serialization = {\n",
    "    'manufacturer': 'BMW',\n",
    "    'series_name': 'M4',\n",
    "    'type_': 'Convertible',\n",
    "    'is_electric': False,\n",
    "    'manufactured_date': date(2023,1,1),\n",
    "    'base_msrp_usd': 93_300,\n",
    "    'vin': '1234567890',\n",
    "    'number_of_doors': 2,\n",
    "    'registration_country': 'France',\n",
    "    'license_plate': 'AAA-BBB',\n",
    "}"
   ]
  },
  {
   "cell_type": "code",
   "execution_count": 5,
   "id": "56861474-d1b1-4bfb-937a-2eaf353022d8",
   "metadata": {},
   "outputs": [],
   "source": [
    "# JSON\n",
    "data_json = '''\n",
    "{\n",
    "    \"manufacturer\": \"BMW\",\n",
    "    \"series_name\": \"M4\",\n",
    "    \"type_\": \"Convertible\",\n",
    "    \"manufactured_date\": \"2023-01-01\",\n",
    "    \"base_msrp_usd\": 93300,\n",
    "    \"vin\": \"1234567890\"\n",
    "}\n",
    "'''\n",
    "\n",
    "data_json_expected_serialization = {\n",
    "    'manufacturer': 'BMW',\n",
    "    'series_name': 'M4',\n",
    "    'type_': 'Convertible',\n",
    "    'is_electric': False,\n",
    "    'manufactured_date': date(2023, 1, 1),\n",
    "    'base_msrp_usd': 93_300,\n",
    "    'vin': '1234567890',\n",
    "    'number_of_doors': 4,\n",
    "    'registration_country': None,\n",
    "    'license_plate': None,\n",
    "}"
   ]
  },
  {
   "cell_type": "code",
   "execution_count": 6,
   "id": "a1990eee",
   "metadata": {},
   "outputs": [],
   "source": [
    "auto1 = Automobile.model_validate(data)"
   ]
  },
  {
   "cell_type": "code",
   "execution_count": 7,
   "id": "402c1ab7",
   "metadata": {},
   "outputs": [],
   "source": [
    "assert auto1.model_dump() ==  data_expected_serialization"
   ]
  },
  {
   "cell_type": "code",
   "execution_count": 8,
   "id": "5afce25d",
   "metadata": {},
   "outputs": [],
   "source": [
    "auto2 = Automobile.model_validate_json(data_json)"
   ]
  },
  {
   "cell_type": "code",
   "execution_count": 9,
   "id": "e88e4ab0",
   "metadata": {},
   "outputs": [],
   "source": [
    "assert auto2.model_dump() ==  data_json_expected_serialization"
   ]
  },
  {
   "cell_type": "code",
   "execution_count": 10,
   "id": "141eedab",
   "metadata": {},
   "outputs": [
    {
     "name": "stdout",
     "output_type": "stream",
     "text": [
      "1 validation error for Automobile\n",
      "is_electric\n",
      "  Input should be a valid boolean, unable to interpret input [type=bool_parsing, input_value=100, input_type=int]\n",
      "    For further information visit https://errors.pydantic.dev/2.10/v/bool_parsing\n",
      "1 validation error for Automobile\n",
      "manufacturer\n",
      "  Field required [type=missing, input_value={'series_name': 'M4', 'ty...cense_plate': 'AAA-BBB'}, input_type=dict]\n",
      "    For further information visit https://errors.pydantic.dev/2.10/v/missing\n"
     ]
    }
   ],
   "source": [
    "from pydantic import ValidationError\n",
    "data_invalid = data.copy()\n",
    "data_invalid['is_electric'] = 100\n",
    "try:\n",
    "    Automobile.model_validate(data_invalid)\n",
    "except ValidationError as e:\n",
    "    print(e)\n",
    "    assert \"Input should be a valid boolean\" in str(e)\n",
    "\n",
    "data_invalid = data.copy()\n",
    "del data_invalid['manufacturer']\n",
    "try:\n",
    "    Automobile.model_validate(data_invalid)\n",
    "except ValidationError as e:\n",
    "    print(e)\n",
    "    assert \"Field required\" in str(e)\n",
    "    \n"
   ]
  },
  {
   "cell_type": "markdown",
   "id": "44be644a",
   "metadata": {},
   "source": [
    "Modify your `Automobile` model to implement the following:\n",
    "- set model to forbid extra fields\n",
    "- set model to strip whitespace from all string fields\n",
    "- set model to validate defaults and assignments\n",
    "- use the enum provided below for the `type_` field"
   ]
  },
  {
   "cell_type": "code",
   "execution_count": 11,
   "id": "2058d3e6",
   "metadata": {},
   "outputs": [],
   "source": [
    "from enum import Enum\n",
    "\n",
    "class AutomobileType(Enum):\n",
    "    sedan = \"Sedan\"\n",
    "    coupe = \"Coupe\"\n",
    "    convertible = \"Convertible\"\n",
    "    suv = \"SUV\"\n",
    "    truck = \"Truck\""
   ]
  },
  {
   "cell_type": "markdown",
   "id": "dfe61b70",
   "metadata": {},
   "source": [
    "You can test your model by serializing and deserializing this data:"
   ]
  },
  {
   "cell_type": "code",
   "execution_count": 12,
   "id": "5129d040",
   "metadata": {},
   "outputs": [],
   "source": [
    "data_json = '''\n",
    "{\n",
    "    \"manufacturer\": \" BMW \",\n",
    "    \"series_name\": \" M4 \",\n",
    "    \"type_\": \"Convertible\",\n",
    "    \"manufactured_date\": \"2023-01-01\",\n",
    "    \"base_msrp_usd\": 93300,\n",
    "    \"vin\": \" 1234567890 \"\n",
    "}\n",
    "'''\n",
    "\n",
    "data_json_expected_serialization = {\n",
    "    'manufacturer': 'BMW',\n",
    "    'series_name': 'M4',\n",
    "    'type_': AutomobileType.convertible,\n",
    "    'is_electric': False,\n",
    "    'manufactured_date': date(2023, 1, 1),\n",
    "    'base_msrp_usd': 93300.0,\n",
    "    'vin': '1234567890',\n",
    "    'number_of_doors': 4,\n",
    "    'registration_country': None,\n",
    "    'license_plate': None\n",
    "}"
   ]
  },
  {
   "cell_type": "code",
   "execution_count": 13,
   "id": "a46b7cc6",
   "metadata": {},
   "outputs": [],
   "source": [
    "from pydantic import ConfigDict\n",
    "\n",
    "class Automobile(BaseModel):\n",
    "    model_config = ConfigDict(extra='forbid',\n",
    "                              str_strip_whitespace=True,\n",
    "                              validate_default=True,\n",
    "                              validate_assignment=True)\n",
    "    manufacturer: str\n",
    "    series_name: str\n",
    "    type_: AutomobileType\n",
    "    is_electric : bool = False\n",
    "    manufactured_date: date\n",
    "    base_msrp_usd : float\n",
    "    vin : str\n",
    "    number_of_doors : int = 4\n",
    "    registration_country : str | None = None\n",
    "    license_plate : str | None = None"
   ]
  },
  {
   "cell_type": "code",
   "execution_count": 14,
   "id": "6b774048",
   "metadata": {},
   "outputs": [],
   "source": [
    "m = Automobile.model_validate_json(data_json)\n",
    "assert m.model_dump() == data_json_expected_serialization "
   ]
  },
  {
   "cell_type": "code",
   "execution_count": 15,
   "id": "317e5f8b",
   "metadata": {},
   "outputs": [
    {
     "name": "stdout",
     "output_type": "stream",
     "text": [
      "1 validation error for Automobile\n",
      "extra_field\n",
      "  Extra inputs are not permitted [type=extra_forbidden, input_value='extra', input_type=str]\n",
      "    For further information visit https://errors.pydantic.dev/2.10/v/extra_forbidden\n"
     ]
    }
   ],
   "source": [
    "from pydantic import ValidationError\n",
    "data_invalid = data.copy()\n",
    "data_invalid['extra_field'] = 'extra'\n",
    "try:\n",
    "    Automobile.model_validate(data_invalid)\n",
    "except ValidationError as e:\n",
    "    print(e)\n",
    "    assert \"Extra inputs are not permitted\" in str(e)"
   ]
  },
  {
   "cell_type": "markdown",
   "id": "3d7cbceb",
   "metadata": {},
   "source": [
    "Modify your `Automobile` model to implement the following:\n",
    "\n",
    "- auto generate camel case aliases\n",
    "- the field `type_` in our model is provided as `type` in source data, and should also serialize to `type`.\n",
    "- the data we receive contains the following field names that need to map to our own model field names - but we still want our camelized field names to be used for serialization. Account for that (without renaming the field names):\n",
    "    - `number_of_doors` is provided as `doors`\n",
    "    - `manufactured_date` is provided as `completionDate`\n",
    "- The field `base_msrp_usd` is provided as `msrpUSD`, and we want the serialization name to be `baseMSRPUSD`\n",
    "- we want the JSON serialized output of `manufactured_date` to be this pattern: `YYYY/MM/DD` (e.g. `2020/01/01`), but serializing to a Python dict should remain as a `date` object."
   ]
  },
  {
   "cell_type": "markdown",
   "id": "b39599a3",
   "metadata": {},
   "source": [
    "The following source data:"
   ]
  },
  {
   "cell_type": "code",
   "execution_count": 16,
   "id": "bee8f404",
   "metadata": {},
   "outputs": [],
   "source": [
    "data_json = '''\n",
    "{\n",
    "    \"manufacturer\": \"BMW\",\n",
    "    \"seriesName\": \"M4\",\n",
    "    \"type\": \"Convertible\",\n",
    "    \"isElectric\": false,\n",
    "    \"completionDate\": \"2023-01-01\",\n",
    "    \"msrpUSD\": 93300,\n",
    "    \"vin\": \"1234567890\",\n",
    "    \"doors\": 2,\n",
    "    \"registrationCountry\": \"France\",\n",
    "    \"licensePlate\": \"AAA-BBB\"\n",
    "}\n",
    "'''"
   ]
  },
  {
   "cell_type": "markdown",
   "id": "b2e1857a",
   "metadata": {},
   "source": [
    "should deserialaze to these:"
   ]
  },
  {
   "cell_type": "code",
   "execution_count": 17,
   "id": "4d199acc",
   "metadata": {},
   "outputs": [],
   "source": [
    "expected_serialized_dict = {\n",
    "    'manufacturer': 'BMW',\n",
    "    'series_name': 'M4',\n",
    "    'type_': AutomobileType.convertible,\n",
    "    'is_electric': False,\n",
    "    'manufactured_date': date(2023, 1, 1),\n",
    "    'base_msrp_usd': 93300.0,\n",
    "    'vin': '1234567890',\n",
    "    'number_of_doors': 2,\n",
    "    'registration_country': 'France',\n",
    "    'license_plate': 'AAA-BBB'\n",
    "}\n",
    "\n",
    "expected_serialized_dict_by_alias = {\n",
    "    'manufacturer': 'BMW',\n",
    "    'seriesName': 'M4',\n",
    "    'type': AutomobileType.convertible,\n",
    "    'isElectric': False,\n",
    "    'manufacturedDate': date(2023, 1, 1),\n",
    "    'baseMSRPUSD': 93300.0,\n",
    "    'vin': '1234567890',\n",
    "    'numberOfDoors': 2,\n",
    "    'registrationCountry': 'France',\n",
    "    'licensePlate': 'AAA-BBB'\n",
    "}\n",
    "\n",
    "expected_serialized_json_by_alias = (\n",
    "    '{\"manufacturer\":\"BMW\",\"seriesName\":\"M4\",\"type\":\"Convertible\",'\n",
    "    '\"isElectric\":false,\"manufacturedDate\":\"2023/01/01\",\"baseMSRPUSD\":93300.0,'\n",
    "    '\"vin\":\"1234567890\",\"numberOfDoors\":2,\"registrationCountry\":\"France\",'\n",
    "    '\"licensePlate\":\"AAA-BBB\"}'\n",
    ")"
   ]
  },
  {
   "cell_type": "code",
   "execution_count": 18,
   "id": "421bd092",
   "metadata": {},
   "outputs": [],
   "source": [
    "from pydantic.alias_generators import to_camel\n",
    "from pydantic import Field, field_serializer\n",
    "class Automobile(BaseModel):\n",
    "    model_config = ConfigDict(extra='forbid',\n",
    "                              str_strip_whitespace=True,\n",
    "                              validate_default=True,\n",
    "                              validate_assignment=True, alias_generator=to_camel)\n",
    "    manufacturer: str\n",
    "    series_name: str\n",
    "    type_: AutomobileType = Field(alias='type')\n",
    "    is_electric : bool = False\n",
    "    manufactured_date: date = Field(validation_alias='completionDate')\n",
    "    base_msrp_usd : float = Field(validation_alias='msrpUSD', serialization_alias='baseMSRPUSD')\n",
    "    vin : str\n",
    "    number_of_doors : int = Field(default=4, validation_alias=\"doors\")\n",
    "    registration_country : str | None = None\n",
    "    license_plate : str | None = None\n",
    "    \n",
    "    @field_serializer(\"manufactured_date\", when_used=\"json-unless-none\")\n",
    "    def serialize_manufactured_date(self, value:date):\n",
    "        return value.strftime(\"%Y/%m/%d\")"
   ]
  },
  {
   "cell_type": "code",
   "execution_count": 19,
   "id": "76b44b6a",
   "metadata": {},
   "outputs": [],
   "source": [
    "m = Automobile.model_validate_json(data_json)"
   ]
  },
  {
   "cell_type": "code",
   "execution_count": 20,
   "id": "626edd7b",
   "metadata": {},
   "outputs": [],
   "source": [
    "assert m.model_dump() == expected_serialized_dict"
   ]
  },
  {
   "cell_type": "code",
   "execution_count": 21,
   "id": "d46fdca2",
   "metadata": {},
   "outputs": [],
   "source": [
    "assert m.model_dump(by_alias=True) == expected_serialized_dict_by_alias"
   ]
  },
  {
   "cell_type": "code",
   "execution_count": 22,
   "id": "248d29c2",
   "metadata": {},
   "outputs": [],
   "source": [
    "assert m.model_dump_json(by_alias=True) == expected_serialized_json_by_alias"
   ]
  },
  {
   "cell_type": "markdown",
   "id": "0bd621d6",
   "metadata": {},
   "source": [
    "Modify your `Automobile` model to implement the following:\n",
    "- add a field named `id_`\n",
    "    - make it the **first** field in your model\n",
    "    - if provided in the data, it will be named `id`\n",
    "    - it should deserialize to `id`\n",
    "    - the field type should be a uuid4\n",
    "    - for now, have it default to `None`"
   ]
  },
  {
   "cell_type": "markdown",
   "id": "94bd193f",
   "metadata": {},
   "source": [
    "You can use this data to test your model:"
   ]
  },
  {
   "cell_type": "code",
   "execution_count": 23,
   "id": "a15085c2",
   "metadata": {},
   "outputs": [],
   "source": [
    "from uuid import UUID\n",
    "\n",
    "data = {\n",
    "    \"id\": \"c4e60f4a-3c7f-4da5-9b3f-07aee50b23e7\",\n",
    "    \"manufacturer\": \"BMW\",\n",
    "    \"seriesName\": \"M4\",\n",
    "    \"type\": \"Convertible\",\n",
    "    \"isElectric\": False,\n",
    "    \"completionDate\": \"2023-01-01\",\n",
    "    \"msrpUSD\": 93_300,\n",
    "    \"vin\": \"1234567890\",\n",
    "    \"doors\": 2,\n",
    "    \"registrationCountry\": \"France\",\n",
    "    \"licensePlate\": \"AAA-BBB\"\n",
    "}\n",
    "\n",
    "expected_serialized_by_alias = {\n",
    "    'id': UUID('c4e60f4a-3c7f-4da5-9b3f-07aee50b23e7'),\n",
    "    'manufacturer': 'BMW',\n",
    "    'seriesName': 'M4',\n",
    "    'type': AutomobileType.convertible,\n",
    "    'isElectric': False,\n",
    "    'manufacturedDate': date(2023, 1, 1),\n",
    "    'baseMSRPUSD': 93300.0,\n",
    "    'vin': '1234567890',\n",
    "    'numberOfDoors': 2,\n",
    "    'registrationCountry': 'France',\n",
    "    'licensePlate': 'AAA-BBB'\n",
    "}\n",
    "\n",
    "data_no_id = {\n",
    "    \"manufacturer\": \"BMW\",\n",
    "    \"seriesName\": \"M4\",\n",
    "    \"type\": \"Convertible\",\n",
    "    \"isElectric\": False,\n",
    "    \"completionDate\": \"2023-01-01\",\n",
    "    \"msrpUSD\": 93_300,\n",
    "    \"vin\": \"1234567890\",\n",
    "    \"doors\": 2,\n",
    "    \"registrationCountry\": \"France\",\n",
    "    \"licensePlate\": \"AAA-BBB\"\n",
    "}\n",
    "\n",
    "expected_serialization_data_no_id_by_alias = {\n",
    "    'id': None,\n",
    "    'manufacturer': 'BMW',\n",
    "    'seriesName': 'M4',\n",
    "    'type': AutomobileType.convertible,\n",
    "    'isElectric': False,\n",
    "    'manufacturedDate': date(2023, 1, 1),\n",
    "    'baseMSRPUSD': 93300.0,\n",
    "    'vin': '1234567890',\n",
    "    'numberOfDoors': 2,\n",
    "    'registrationCountry': 'France',\n",
    "    'licensePlate': 'AAA-BBB'\n",
    "}"
   ]
  },
  {
   "cell_type": "code",
   "execution_count": 24,
   "id": "7a9d5a54",
   "metadata": {},
   "outputs": [],
   "source": [
    "from pydantic import UUID4\n",
    "class Automobile(BaseModel):\n",
    "    model_config = ConfigDict(extra='forbid',\n",
    "                              str_strip_whitespace=True,\n",
    "                              validate_default=True,\n",
    "                              validate_assignment=True, alias_generator=to_camel)\n",
    "    id_: UUID4 | None = Field(alias='id',default=None)\n",
    "    manufacturer: str\n",
    "    series_name: str\n",
    "    type_: AutomobileType = Field(alias='type')\n",
    "    is_electric : bool = False\n",
    "    manufactured_date: date = Field(validation_alias='completionDate')\n",
    "    base_msrp_usd : float = Field(validation_alias='msrpUSD', serialization_alias='baseMSRPUSD')\n",
    "    vin : str\n",
    "    number_of_doors : int = Field(default=4, validation_alias=\"doors\")\n",
    "    registration_country : str | None = None\n",
    "    license_plate : str | None = None\n",
    "    \n",
    "    @field_serializer(\"manufactured_date\", when_used=\"json-unless-none\")\n",
    "    def serialize_manufactured_date(self, value:date):\n",
    "        return value.strftime(\"%Y/%m/%d\")"
   ]
  },
  {
   "cell_type": "code",
   "execution_count": 25,
   "id": "1ee7615d",
   "metadata": {},
   "outputs": [],
   "source": [
    "m = Automobile.model_validate(data)"
   ]
  },
  {
   "cell_type": "code",
   "execution_count": 26,
   "id": "1877b2ee",
   "metadata": {},
   "outputs": [],
   "source": [
    "assert m.model_dump(by_alias=True) == expected_serialized_by_alias\n"
   ]
  },
  {
   "cell_type": "code",
   "execution_count": 27,
   "id": "78c5fda3",
   "metadata": {},
   "outputs": [],
   "source": [
    "m2 = Automobile.model_validate(data_no_id)"
   ]
  },
  {
   "cell_type": "code",
   "execution_count": 28,
   "id": "9d7b0a90",
   "metadata": {},
   "outputs": [],
   "source": [
    "assert m2.model_dump(by_alias=True) == expected_serialization_data_no_id_by_alias\n"
   ]
  },
  {
   "cell_type": "markdown",
   "id": "649c5597",
   "metadata": {},
   "source": [
    "Modify your `Automobile` model to implement the following:\n",
    "- constrain the manufactured date to be no earlier than `1980-01-01` (Hint: how did you constrain numbers using `Field`? works the same with dates)\n",
    "- numbers of doors should be constrained to be a min of 2, a max of 4, and a multiple of 2 (so 2 doors, or 4 doors)\n",
    "- change `id` to no longer be nullable, and provide a uuid4 as a default (make sure the default is not always the same when creating multiple models)"
   ]
  },
  {
   "cell_type": "markdown",
   "id": "2115778c",
   "metadata": {},
   "source": [
    "Test data:"
   ]
  },
  {
   "cell_type": "code",
   "execution_count": 29,
   "id": "a84558d4",
   "metadata": {},
   "outputs": [],
   "source": [
    "data = {\n",
    "    \"id\": \"c4e60f4a-3c7f-4da5-9b3f-07aee50b23e7\",\n",
    "    \"manufacturer\": \"BMW\",\n",
    "    \"seriesName\": \"M4\",\n",
    "    \"type\": \"Convertible\",\n",
    "    \"isElectric\": False,\n",
    "    \"completionDate\": \"2023-01-01\",\n",
    "    \"msrpUSD\": 93_300,\n",
    "    \"vin\": \"1234567890\",\n",
    "    \"doors\": 2,\n",
    "    \"registrationCountry\": \"France\",\n",
    "    \"licensePlate\": \"AAA-BBB\"\n",
    "}"
   ]
  },
  {
   "cell_type": "markdown",
   "id": "c51a1f82",
   "metadata": {},
   "source": [
    "Expected serialization to dict by alias is:"
   ]
  },
  {
   "cell_type": "code",
   "execution_count": 30,
   "id": "7acadff8",
   "metadata": {},
   "outputs": [],
   "source": [
    "from uuid import UUID\n",
    "\n",
    "expected_serialized_by_alias = {\n",
    "    'id': UUID('c4e60f4a-3c7f-4da5-9b3f-07aee50b23e7'),\n",
    "    'manufacturer': 'BMW',\n",
    "    'seriesName': 'M4',\n",
    "    'type': AutomobileType.convertible,\n",
    "    'isElectric': False,\n",
    "    'manufacturedDate': date(2023, 1, 1),\n",
    "    'baseMSRPUSD': 93300.0,\n",
    "    'vin': '1234567890',\n",
    "    'numberOfDoors': 2,\n",
    "    'registrationCountry': 'France',\n",
    "    'licensePlate': 'AAA-BBB'\n",
    "}"
   ]
  },
  {
   "cell_type": "code",
   "execution_count": 31,
   "id": "e6e4167d",
   "metadata": {},
   "outputs": [],
   "source": [
    "data_no_id = {\n",
    "    \"manufacturer\": \"BMW\",\n",
    "    \"seriesName\": \"M4\",\n",
    "    \"type\": \"Convertible\",\n",
    "    \"isElectric\": False,\n",
    "    \"completionDate\": \"2023-01-01\",\n",
    "    \"msrpUSD\": 93_300,\n",
    "    \"vin\": \"1234567890\",\n",
    "    \"doors\": 2,\n",
    "    \"registrationCountry\": \"France\",\n",
    "    \"licensePlate\": \"AAA-BBB\"\n",
    "}"
   ]
  },
  {
   "cell_type": "code",
   "execution_count": 32,
   "id": "1e55eac7",
   "metadata": {},
   "outputs": [],
   "source": [
    "expected_serialization_data_no_id_by_alias = {\n",
    "    'id': None,\n",
    "    'manufacturer': 'BMW',\n",
    "    'seriesName': 'M4',\n",
    "    'type': AutomobileType.convertible,\n",
    "    'isElectric': False,\n",
    "    'manufacturedDate': date(2023, 1, 1),\n",
    "    'baseMSRPUSD': 93300.0,\n",
    "    'vin': '1234567890',\n",
    "    'numberOfDoors': 2,\n",
    "    'registrationCountry': 'France',\n",
    "    'licensePlate': 'AAA-BBB'\n",
    "}"
   ]
  },
  {
   "cell_type": "code",
   "execution_count": 33,
   "id": "97ed14c3",
   "metadata": {},
   "outputs": [],
   "source": [
    "from uuid import uuid4\n",
    "\n",
    "class Automobile(BaseModel):\n",
    "    model_config = ConfigDict(\n",
    "        extra=\"forbid\",\n",
    "        str_strip_whitespace=True,\n",
    "        validate_default=True,\n",
    "        validate_assignment=True,\n",
    "        alias_generator=to_camel,\n",
    "    )\n",
    "\n",
    "    id_: UUID4 = Field(alias=\"id\", default_factory=uuid4) \n",
    "    manufacturer: str\n",
    "    series_name: str\n",
    "    type_: AutomobileType = Field(alias=\"type\")\n",
    "    is_electric: bool = False\n",
    "    manufactured_date: date = Field(validation_alias=\"completionDate\", ge=date(1980, 1, 1))\n",
    "    base_msrp_usd: float = Field(validation_alias=\"msrpUSD\", serialization_alias=\"baseMSRPUSD\")\n",
    "    vin: str\n",
    "    number_of_doors: int = Field(default=4, validation_alias=\"doors\",ge=2,le=4,multiple_of=2)\n",
    "    registration_country: str | None = None\n",
    "    license_plate: str | None = None\n",
    "\n",
    "    @field_serializer(\"manufactured_date\", when_used=\"json-unless-none\")\n",
    "    def serialize_date(self, value: date) -> str:\n",
    "        return value.strftime(\"%Y/%m/%d\")"
   ]
  },
  {
   "cell_type": "markdown",
   "id": "a47808fa",
   "metadata": {},
   "source": [
    "Tests"
   ]
  },
  {
   "cell_type": "code",
   "execution_count": 34,
   "id": "28264f9d",
   "metadata": {},
   "outputs": [],
   "source": [
    "m = Automobile.model_validate(data)\n",
    "assert m.model_dump(by_alias=True) == expected_serialized_by_alias"
   ]
  },
  {
   "cell_type": "code",
   "execution_count": 35,
   "id": "18b6a141",
   "metadata": {},
   "outputs": [],
   "source": [
    "m = Automobile.model_validate(data_no_id)\n",
    "m2 = Automobile.model_validate(data_no_id)\n",
    "assert m.id_ != m2.id_"
   ]
  },
  {
   "cell_type": "markdown",
   "id": "8428c9a8",
   "metadata": {},
   "source": [
    "Create an annotated type, named `BoundedString` to define a string that has a minimum of 2 characters, and no more than 50 characters.\n",
    "\n",
    "Modify your `Automobile` model to use this annotated type for the following fields:\n",
    "- `manufacturer`\n",
    "- `series_name`\n",
    "- `vin`\n",
    "- `registration_country`\n",
    "- `license_plate`\n",
    "\n",
    "Create an annotated type, called `BoundedList` that uses a type variable to define a list of elements with a minimum of `1` element and a maximum of `5` elements.\n",
    "\n",
    "Using this annotated type, add a new field to the model as follows:\n",
    "- field name should be `top_features`\n",
    "- place it just before the `vin` field\n",
    "- it should both deserialize from and serialize to `topFeatures`\n",
    "- if should be a bounded list of strings, which themselves shoudl be bounded to a minimum of `2` chars, and no more than `50`. (Hint: use the `BoundedString` type you create as the type when you define the field type in your model with `BoundedList`)\n",
    "- make it optional, with a default of `None`"
   ]
  },
  {
   "cell_type": "markdown",
   "id": "885a2603",
   "metadata": {},
   "source": [
    "Use this data to test your model:"
   ]
  },
  {
   "cell_type": "code",
   "execution_count": 36,
   "id": "d1aa9376",
   "metadata": {},
   "outputs": [],
   "source": [
    "from uuid import UUID\n",
    "\n",
    "data = {\n",
    "    \"id\": \"c4e60f4a-3c7f-4da5-9b3f-07aee50b23e7\",\n",
    "    \"manufacturer\": \"BMW\",\n",
    "    \"seriesName\": \"M4 Competition xDrive\",\n",
    "    \"type\": \"Convertible\",\n",
    "    \"isElectric\": False,\n",
    "    \"completionDate\": \"2023-01-01\",\n",
    "    \"msrpUSD\": 93_300,\n",
    "    \"topFeatures\": [\"6 cylinders\", \"all-wheel drive\", \"convertible\"],\n",
    "    \"vin\": \"1234567890\",\n",
    "    \"doors\": 2,\n",
    "    \"registrationCountry\": \"France\",\n",
    "    \"licensePlate\": \"AAA-BBB\"\n",
    "}\n",
    "\n",
    "expected_serialized_by_alias = {\n",
    "    'id': UUID('c4e60f4a-3c7f-4da5-9b3f-07aee50b23e7'),\n",
    "    'manufacturer': 'BMW',\n",
    "    'seriesName': 'M4 Competition xDrive',\n",
    "    'type': AutomobileType.convertible,\n",
    "    'isElectric': False,\n",
    "    'manufacturedDate': date(2023, 1, 1),\n",
    "    'baseMSRPUSD': 93300.0,\n",
    "    'topFeatures': ['6 cylinders', 'all-wheel drive', 'convertible'],\n",
    "    'vin': '1234567890',\n",
    "    'numberOfDoors': 2,\n",
    "    'registrationCountry': 'France',\n",
    "    'licensePlate': 'AAA-BBB'\n",
    "}"
   ]
  },
  {
   "cell_type": "code",
   "execution_count": 37,
   "id": "8e6b3845",
   "metadata": {},
   "outputs": [],
   "source": [
    "from typing import Annotated, TypeVar\n",
    "from pydantic import Field\n",
    "\n",
    "BoundedString = Annotated[str, Field(min_length=2, max_length=50)]\n",
    "\n",
    "T = TypeVar('T')\n",
    "\n",
    "BoundedList = Annotated[list[T], Field(min_length=1, max_length=5)]"
   ]
  },
  {
   "cell_type": "code",
   "execution_count": 38,
   "id": "77a3845c",
   "metadata": {},
   "outputs": [],
   "source": [
    "from uuid import uuid4\n",
    "\n",
    "class Automobile(BaseModel):\n",
    "    model_config = ConfigDict(\n",
    "        extra=\"forbid\",\n",
    "        str_strip_whitespace=True,\n",
    "        validate_default=True,\n",
    "        validate_assignment=True,\n",
    "        alias_generator=to_camel,\n",
    "    )\n",
    "\n",
    "    id_: UUID4 = Field(alias=\"id\", default_factory=uuid4) \n",
    "    manufacturer: BoundedString\n",
    "    series_name: BoundedString\n",
    "    type_: AutomobileType = Field(alias=\"type\")\n",
    "    is_electric: bool = False\n",
    "    manufactured_date: date = Field(validation_alias=\"completionDate\", ge=date(1980, 1, 1))\n",
    "    base_msrp_usd: float = Field(validation_alias=\"msrpUSD\", serialization_alias=\"baseMSRPUSD\")\n",
    "    top_features: BoundedList[BoundedString] | None = None\n",
    "    vin: BoundedString\n",
    "    number_of_doors: int = Field(default=4, validation_alias=\"doors\",ge=2,le=4,multiple_of=2)\n",
    "    registration_country: BoundedString | None = None\n",
    "    license_plate: BoundedString | None = None\n",
    "\n",
    "    @field_serializer(\"manufactured_date\", when_used=\"json-unless-none\")\n",
    "    def serialize_date(self, value: date) -> str:\n",
    "        return value.strftime(\"%Y/%m/%d\")"
   ]
  },
  {
   "cell_type": "code",
   "execution_count": 39,
   "id": "ce89af2a",
   "metadata": {},
   "outputs": [
    {
     "data": {
      "text/plain": [
       "Automobile(id_=UUID('c4e60f4a-3c7f-4da5-9b3f-07aee50b23e7'), manufacturer='BMW', series_name='M4 Competition xDrive', type_=<AutomobileType.convertible: 'Convertible'>, is_electric=False, manufactured_date=datetime.date(2023, 1, 1), base_msrp_usd=93300.0, top_features=['6 cylinders', 'all-wheel drive', 'convertible'], vin='1234567890', number_of_doors=2, registration_country='France', license_plate='AAA-BBB')"
      ]
     },
     "execution_count": 39,
     "metadata": {},
     "output_type": "execute_result"
    }
   ],
   "source": [
    "car = Automobile.model_validate(data)\n",
    "car"
   ]
  },
  {
   "cell_type": "code",
   "execution_count": 40,
   "id": "bbd63bcc",
   "metadata": {},
   "outputs": [],
   "source": [
    "assert car.model_dump(by_alias=True) == expected_serialized_by_alias"
   ]
  }
 ],
 "metadata": {
  "kernelspec": {
   "display_name": ".venv",
   "language": "python",
   "name": "python3"
  },
  "language_info": {
   "codemirror_mode": {
    "name": "ipython",
    "version": 3
   },
   "file_extension": ".py",
   "mimetype": "text/x-python",
   "name": "python",
   "nbconvert_exporter": "python",
   "pygments_lexer": "ipython3",
   "version": "3.12.4"
  }
 },
 "nbformat": 4,
 "nbformat_minor": 5
}
